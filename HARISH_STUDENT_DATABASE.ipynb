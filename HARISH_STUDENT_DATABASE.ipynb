{
  "nbformat": 4,
  "nbformat_minor": 0,
  "metadata": {
    "colab": {
      "provenance": [],
      "authorship_tag": "ABX9TyNADLJh7fuSffjm3RPDEysI",
      "include_colab_link": true
    },
    "kernelspec": {
      "name": "python3",
      "display_name": "Python 3"
    },
    "language_info": {
      "name": "python"
    }
  },
  "cells": [
    {
      "cell_type": "markdown",
      "metadata": {
        "id": "view-in-github",
        "colab_type": "text"
      },
      "source": [
        "<a href=\"https://colab.research.google.com/github/harish-git63/Demo1/blob/main/HARISH_STUDENT_DATABASE.ipynb\" target=\"_parent\"><img src=\"https://colab.research.google.com/assets/colab-badge.svg\" alt=\"Open In Colab\"/></a>"
      ]
    },
    {
      "cell_type": "code",
      "execution_count": 1,
      "metadata": {
        "colab": {
          "base_uri": "https://localhost:8080/",
          "height": 332
        },
        "id": "wgehCVpsFvAF",
        "outputId": "4c53645d-5513-4e9b-c6b7-9aad8fdeffab"
      },
      "outputs": [
        {
          "output_type": "error",
          "ename": "TclError",
          "evalue": "no display name and no $DISPLAY environment variable",
          "traceback": [
            "\u001b[0;31m---------------------------------------------------------------------------\u001b[0m",
            "\u001b[0;31mTclError\u001b[0m                                  Traceback (most recent call last)",
            "\u001b[0;32m/tmp/ipython-input-432791128.py\u001b[0m in \u001b[0;36m<cell line: 0>\u001b[0;34m()\u001b[0m\n\u001b[1;32m     63\u001b[0m \u001b[0;34m\u001b[0m\u001b[0m\n\u001b[1;32m     64\u001b[0m \u001b[0;31m# GUI setup\u001b[0m\u001b[0;34m\u001b[0m\u001b[0;34m\u001b[0m\u001b[0m\n\u001b[0;32m---> 65\u001b[0;31m \u001b[0mroot\u001b[0m \u001b[0;34m=\u001b[0m \u001b[0mtk\u001b[0m\u001b[0;34m.\u001b[0m\u001b[0mTk\u001b[0m\u001b[0;34m(\u001b[0m\u001b[0;34m)\u001b[0m\u001b[0;34m\u001b[0m\u001b[0;34m\u001b[0m\u001b[0m\n\u001b[0m\u001b[1;32m     66\u001b[0m \u001b[0mroot\u001b[0m\u001b[0;34m.\u001b[0m\u001b[0mtitle\u001b[0m\u001b[0;34m(\u001b[0m\u001b[0;34m\"Student Management System\"\u001b[0m\u001b[0;34m)\u001b[0m\u001b[0;34m\u001b[0m\u001b[0;34m\u001b[0m\u001b[0m\n\u001b[1;32m     67\u001b[0m \u001b[0mroot\u001b[0m\u001b[0;34m.\u001b[0m\u001b[0mgeometry\u001b[0m\u001b[0;34m(\u001b[0m\u001b[0;34m\"700x500\"\u001b[0m\u001b[0;34m)\u001b[0m\u001b[0;34m\u001b[0m\u001b[0;34m\u001b[0m\u001b[0m\n",
            "\u001b[0;32m/usr/lib/python3.11/tkinter/__init__.py\u001b[0m in \u001b[0;36m__init__\u001b[0;34m(self, screenName, baseName, className, useTk, sync, use)\u001b[0m\n\u001b[1;32m   2324\u001b[0m                 \u001b[0mbaseName\u001b[0m \u001b[0;34m=\u001b[0m \u001b[0mbaseName\u001b[0m \u001b[0;34m+\u001b[0m \u001b[0mext\u001b[0m\u001b[0;34m\u001b[0m\u001b[0;34m\u001b[0m\u001b[0m\n\u001b[1;32m   2325\u001b[0m         \u001b[0minteractive\u001b[0m \u001b[0;34m=\u001b[0m \u001b[0;32mFalse\u001b[0m\u001b[0;34m\u001b[0m\u001b[0;34m\u001b[0m\u001b[0m\n\u001b[0;32m-> 2326\u001b[0;31m         \u001b[0mself\u001b[0m\u001b[0;34m.\u001b[0m\u001b[0mtk\u001b[0m \u001b[0;34m=\u001b[0m \u001b[0m_tkinter\u001b[0m\u001b[0;34m.\u001b[0m\u001b[0mcreate\u001b[0m\u001b[0;34m(\u001b[0m\u001b[0mscreenName\u001b[0m\u001b[0;34m,\u001b[0m \u001b[0mbaseName\u001b[0m\u001b[0;34m,\u001b[0m \u001b[0mclassName\u001b[0m\u001b[0;34m,\u001b[0m \u001b[0minteractive\u001b[0m\u001b[0;34m,\u001b[0m \u001b[0mwantobjects\u001b[0m\u001b[0;34m,\u001b[0m \u001b[0museTk\u001b[0m\u001b[0;34m,\u001b[0m \u001b[0msync\u001b[0m\u001b[0;34m,\u001b[0m \u001b[0muse\u001b[0m\u001b[0;34m)\u001b[0m\u001b[0;34m\u001b[0m\u001b[0;34m\u001b[0m\u001b[0m\n\u001b[0m\u001b[1;32m   2327\u001b[0m         \u001b[0;32mif\u001b[0m \u001b[0museTk\u001b[0m\u001b[0;34m:\u001b[0m\u001b[0;34m\u001b[0m\u001b[0;34m\u001b[0m\u001b[0m\n\u001b[1;32m   2328\u001b[0m             \u001b[0mself\u001b[0m\u001b[0;34m.\u001b[0m\u001b[0m_loadtk\u001b[0m\u001b[0;34m(\u001b[0m\u001b[0;34m)\u001b[0m\u001b[0;34m\u001b[0m\u001b[0;34m\u001b[0m\u001b[0m\n",
            "\u001b[0;31mTclError\u001b[0m: no display name and no $DISPLAY environment variable"
          ]
        }
      ],
      "source": [
        "import sqlite3\n",
        "import tkinter as tk\n",
        "from tkinter import messagebox, ttk\n",
        "\n",
        "# Connect to SQLite database\n",
        "conn = sqlite3.connect('students.db')\n",
        "cursor = conn.cursor()\n",
        "\n",
        "# Create table if it doesn't exist\n",
        "cursor.execute('''\n",
        "    CREATE TABLE IF NOT EXISTS students (\n",
        "        id INTEGER PRIMARY KEY AUTOINCREMENT,\n",
        "        name TEXT NOT NULL,\n",
        "        register_number TEXT UNIQUE NOT NULL,\n",
        "        department TEXT NOT NULL\n",
        "    )\n",
        "''')\n",
        "conn.commit()\n",
        "\n",
        "# Functions for database operations\n",
        "def add_student():\n",
        "    name = name_entry.get()\n",
        "    reg_no = reg_entry.get()\n",
        "    dept = dept_entry.get()\n",
        "    try:\n",
        "        cursor.execute(\"INSERT INTO students (name, register_number, department) VALUES (?, ?, ?)\",\n",
        "                       (name, reg_no, dept))\n",
        "        conn.commit()\n",
        "        messagebox.showinfo(\"Success\", \"Student added successfully!\")\n",
        "        view_students()\n",
        "    except sqlite3.IntegrityError:\n",
        "        messagebox.showerror(\"Error\", \"Register number already exists.\")\n",
        "\n",
        "def view_students():\n",
        "    for row in tree.get_children():\n",
        "        tree.delete(row)\n",
        "    cursor.execute(\"SELECT * FROM students\")\n",
        "    for row in cursor.fetchall():\n",
        "        tree.insert(\"\", \"end\", values=row)\n",
        "\n",
        "def update_student():\n",
        "    reg_no = reg_entry.get()\n",
        "    new_name = name_entry.get()\n",
        "    new_dept = dept_entry.get()\n",
        "    cursor.execute(\"UPDATE students SET name = ?, department = ? WHERE register_number = ?\",\n",
        "                   (new_name, new_dept, reg_no))\n",
        "    if cursor.rowcount == 0:\n",
        "        messagebox.showerror(\"Error\", \"Student not found.\")\n",
        "    else:\n",
        "        conn.commit()\n",
        "        messagebox.showinfo(\"Success\", \"Student updated successfully!\")\n",
        "        view_students()\n",
        "\n",
        "def delete_student():\n",
        "    reg_no = reg_entry.get()\n",
        "    cursor.execute(\"DELETE FROM students WHERE register_number = ?\", (reg_no,))\n",
        "    if cursor.rowcount == 0:\n",
        "        messagebox.showerror(\"Error\", \"Student not found.\")\n",
        "    else:\n",
        "        conn.commit()\n",
        "        messagebox.showinfo(\"Deleted\", \"Student deleted successfully!\")\n",
        "        view_students()\n",
        "\n",
        "# GUI setup\n",
        "root = tk.Tk()\n",
        "root.title(\"Student Management System\")\n",
        "root.geometry(\"700x500\")\n",
        "\n",
        "# Input fields\n",
        "tk.Label(root, text=\"Name\").grid(row=0, column=0, padx=10, pady=5, sticky='w')\n",
        "name_entry = tk.Entry(root)\n",
        "name_entry.grid(row=0, column=1, padx=10, pady=5)\n",
        "\n",
        "tk.Label(root, text=\"Register Number\").grid(row=1, column=0, padx=10, pady=5, sticky='w')\n",
        "reg_entry = tk.Entry(root)\n",
        "reg_entry.grid(row=1, column=1, padx=10, pady=5)\n",
        "\n",
        "tk.Label(root, text=\"Department\").grid(row=2, column=0, padx=10, pady=5, sticky='w')\n",
        "dept_entry = tk.Entry(root)\n",
        "dept_entry.grid(row=2, column=1, padx=10, pady=5)\n",
        "\n",
        "# Buttons\n",
        "tk.Button(root, text=\"Add Student\", command=add_student, bg=\"lightgreen\").grid(row=3, column=0, padx=10, pady=10)\n",
        "tk.Button(root, text=\"View Students\", command=view_students, bg=\"lightblue\").grid(row=3, column=1, padx=10, pady=10)\n",
        "tk.Button(root, text=\"Update Student\", command=update_student, bg=\"khaki\").grid(row=4, column=0, padx=10, pady=10)\n",
        "tk.Button(root, text=\"Delete Student\", command=delete_student, bg=\"salmon\").grid(row=4, column=1, padx=10, pady=10)\n",
        "\n",
        "# Treeview for displaying records\n",
        "columns = (\"ID\", \"Name\", \"Register Number\", \"Department\")\n",
        "tree = ttk.Treeview(root, columns=columns, show=\"headings\")\n",
        "for col in columns:\n",
        "    tree.heading(col, text=col)\n",
        "    tree.column(col, width=150)\n",
        "\n",
        "tree.grid(row=5, column=0, columnspan=2, padx=10, pady=20)\n",
        "\n",
        "# Run GUI\n",
        "view_students()\n",
        "root.mainloop()\n",
        "\n",
        "# Close connection when done\n",
        "conn.close()\n"
      ]
    }
  ]
}