{
  "cells": [
    {
      "cell_type": "markdown",
      "metadata": {
        "id": "view-in-github",
        "colab_type": "text"
      },
      "source": [
        "<a href=\"https://colab.research.google.com/github/harish-git63/Demo1/blob/main/HARISH_AIML_LAB_1_.ipynb\" target=\"_parent\"><img src=\"https://colab.research.google.com/assets/colab-badge.svg\" alt=\"Open In Colab\"/></a>"
      ]
    },
    {
      "cell_type": "code",
      "execution_count": null,
      "metadata": {
        "colab": {
          "base_uri": "https://localhost:8080/"
        },
        "id": "MMLhqT_SySd6",
        "outputId": "ed9313d5-41ae-4796-f253-63ce193fe538"
      },
      "outputs": [
        {
          "name": "stdout",
          "output_type": "stream",
          "text": [
            "Array a: [1 2 3 4 5]\n",
            "Array b: [10 20 30 40 50]\n",
            "Sum: [11 22 33 44 55]\n",
            "Difference: [ -9 -18 -27 -36 -45]\n",
            "Product: [ 10  40  90 160 250]\n",
            "Mean of a: 3.0\n",
            "Mean of b: 30.0\n",
            "Max of b: 50\n",
            "Min of b: 10\n"
          ]
        }
      ],
      "source": [
        "import numpy as np\n",
        "\n",
        "a = np.array([1, 2, 3, 4, 5])\n",
        "b = np.array([10, 20, 30, 40, 50])\n",
        "\n",
        "sum_array = a + b\n",
        "diff_array = a - b\n",
        "product_array = a * b\n",
        "\n",
        "mean_a = np.mean(a)\n",
        "mean_b = np.mean(b)\n",
        "max_b = np.max(b)\n",
        "min_b = np.min(b)\n",
        "\n",
        "print(\"Array a:\", a)\n",
        "print(\"Array b:\", b)\n",
        "print(\"Sum:\", sum_array)\n",
        "print(\"Difference:\", diff_array)\n",
        "print(\"Product:\", product_array)\n",
        "print(\"Mean of a:\", mean_a)\n",
        "print(\"Mean of b:\", mean_b)\n",
        "print(\"Max of b:\", max_b)\n",
        "print(\"Min of b:\", min_b)"
      ]
    },
    {
      "cell_type": "code",
      "execution_count": null,
      "metadata": {
        "colab": {
          "base_uri": "https://localhost:8080/"
        },
        "id": "9FFBCzrG6a17",
        "outputId": "90eb1f89-c436-4e5d-9c9b-ec1a7452b250"
      },
      "outputs": [
        {
          "name": "stdout",
          "output_type": "stream",
          "text": [
            "Element at(0,1): 2\n",
            "second row: [4 5 6]\n",
            "[[1 2 3]\n",
            " [4 5 6]]\n"
          ]
        }
      ],
      "source": [
        "import numpy as np\n",
        "\n",
        "arr = np.array([[1,2,3],[4,5,6]])\n",
        "\n",
        "print(\"Element at(0,1):\",arr[0,1])\n",
        "print(\"second row:\",arr[1])\n",
        "print(arr)\n"
      ]
    },
    {
      "cell_type": "code",
      "execution_count": null,
      "metadata": {
        "colab": {
          "base_uri": "https://localhost:8080/"
        },
        "id": "JJZMWc4473Wy",
        "outputId": "ce27ef8d-e514-4e0d-883e-f30da2389f01"
      },
      "outputs": [
        {
          "name": "stdout",
          "output_type": "stream",
          "text": [
            "sum: [ 6 12 18]\n"
          ]
        }
      ],
      "source": [
        "a = np.array([5,10,15])\n",
        "b = np.array([1,2,3])\n",
        "\n",
        "result = a+b\n",
        "print(\"sum:\",result)"
      ]
    },
    {
      "cell_type": "code",
      "execution_count": null,
      "metadata": {
        "colab": {
          "base_uri": "https://localhost:8080/"
        },
        "id": "MWYeM4Ww8cRK",
        "outputId": "722fa4aa-2097-47e8-f273-abce0b781e07"
      },
      "outputs": [
        {
          "name": "stdout",
          "output_type": "stream",
          "text": [
            "Random Array: [15 59 14  8 77  2 15 88 15 70]\n",
            "maximum: 88\n",
            "minimum: 2\n"
          ]
        }
      ],
      "source": [
        "import numpy as np\n",
        "rand_array = np.random.randint(1,100,size=10)\n",
        "print(\"Random Array:\",rand_array)\n",
        "print(\"maximum:\",np.max(rand_array))\n",
        "print(\"minimum:\",np.min(rand_array))"
      ]
    },
    {
      "cell_type": "code",
      "execution_count": null,
      "metadata": {
        "colab": {
          "base_uri": "https://localhost:8080/"
        },
        "id": "sLksDxmg-CbZ",
        "outputId": "bbcf7d61-13b2-4a3b-c6cc-24295bac30a5"
      },
      "outputs": [
        {
          "name": "stdout",
          "output_type": "stream",
          "text": [
            "Reshaped(2*3):\n",
            " [[1 2 3]\n",
            " [4 5 6]]\n",
            "Flattened: [1 2 3 4 5 6]\n"
          ]
        }
      ],
      "source": [
        "import numpy as np\n",
        "arr = np.array([1,2,3,4,5,6])\n",
        "reshaped = arr.reshape(2,3)\n",
        "print(\"Reshaped(2*3):\\n\",reshaped)\n",
        "\n",
        "flattened = reshaped.flatten()\n",
        "print(\"Flattened:\",flattened)\n"
      ]
    },
    {
      "cell_type": "code",
      "execution_count": null,
      "metadata": {
        "colab": {
          "base_uri": "https://localhost:8080/"
        },
        "id": "TRr76IKP_maP",
        "outputId": "5fb43087-f950-44cb-c317-a3f6ee326323"
      },
      "outputs": [
        {
          "name": "stdout",
          "output_type": "stream",
          "text": [
            "Elements > 25: [30 40 50 60]\n"
          ]
        }
      ],
      "source": [
        "import numpy as np\n",
        "arr = np.array([10,20,30,40,50,60])\n",
        "filtered = arr[arr>25]\n",
        "print(\"Elements > 25:\",filtered)"
      ]
    },
    {
      "cell_type": "code",
      "execution_count": null,
      "metadata": {
        "colab": {
          "base_uri": "https://localhost:8080/"
        },
        "id": "QwLV3N2GmgSf",
        "outputId": "79e8593a-9ca7-46a1-b72b-0faed4ad8791"
      },
      "outputs": [
        {
          "name": "stdout",
          "output_type": "stream",
          "text": [
            "Matrix A:\n",
            " [[1 2]\n",
            " [3 4]]\n",
            "Matrix B:\n",
            " [[5 6]\n",
            " [7 8]]\n",
            "A x B:\n",
            " [[19 22]\n",
            " [43 50]]\n"
          ]
        }
      ],
      "source": [
        "import numpy as np\n",
        "A = np.array([[1, 2], [3, 4]])\n",
        "B = np.array([[5, 6], [7, 8]])\n",
        "\n",
        "result = np.dot(A, B)\n",
        "print(\"Matrix A:\\n\", A)\n",
        "print(\"Matrix B:\\n\", B)\n",
        "print(\"A x B:\\n\", result)"
      ]
    },
    {
      "cell_type": "code",
      "execution_count": null,
      "metadata": {
        "colab": {
          "base_uri": "https://localhost:8080/"
        },
        "id": "tEglbr9lmtBJ",
        "outputId": "149a69cf-4586-4240-aa89-aab6309d3f2b"
      },
      "outputs": [
        {
          "name": "stdout",
          "output_type": "stream",
          "text": [
            "Mean: 3.5\n",
            "Median: 3.5\n",
            "Standard Deviation: 1.707825127659933\n"
          ]
        }
      ],
      "source": [
        "data = np.array([1, 2, 3, 4, 5, 6])\n",
        "print(\"Mean:\", np.mean(data))\n",
        "print(\"Median:\", np.median(data))\n",
        "print(\"Standard Deviation:\", np.std(data))"
      ]
    },
    {
      "cell_type": "code",
      "execution_count": null,
      "metadata": {
        "colab": {
          "base_uri": "https://localhost:8080/"
        },
        "id": "MA29J44rm0Sv",
        "outputId": "7720167f-6749-438a-bf34-3fa048972fda"
      },
      "outputs": [
        {
          "name": "stdout",
          "output_type": "stream",
          "text": [
            "Arange: [0 1 2 3 4 5 6 7 8 9]\n",
            "Linspace: [0.         0.6981317  1.3962634  2.0943951  2.7925268  3.4906585\n",
            " 4.1887902  4.88692191 5.58505361 6.28318531]\n"
          ]
        }
      ],
      "source": [
        "a = np.arange(0, 10)\n",
        "b = np.linspace(0, 2 * np.pi, 10)\n",
        "print(\"Arange:\", a)\n",
        "print(\"Linspace:\", b)"
      ]
    },
    {
      "cell_type": "code",
      "execution_count": null,
      "metadata": {
        "colab": {
          "base_uri": "https://localhost:8080/"
        },
        "id": "whatg16pm71Z",
        "outputId": "f6ecb06b-96db-46e5-acbe-d4969b7befab"
      },
      "outputs": [
        {
          "name": "stdout",
          "output_type": "stream",
          "text": [
            "Original:\n",
            " [[1 2 3]\n",
            " [4 5 6]]\n",
            "Transposed:\n",
            " [[1 4]\n",
            " [2 5]\n",
            " [3 6]]\n"
          ]
        }
      ],
      "source": [
        "matrix = np.array([[1, 2, 3], [4, 5, 6]])\n",
        "transpose = matrix.T\n",
        "print(\"Original:\\n\", matrix)\n",
        "print(\"Transposed:\\n\", transpose)"
      ]
    },
    {
      "cell_type": "code",
      "execution_count": null,
      "metadata": {
        "colab": {
          "base_uri": "https://localhost:8080/"
        },
        "id": "fu3u2Fj6nCGB",
        "outputId": "bd623b31-e4ab-4655-a66f-e54e5d48e504"
      },
      "outputs": [
        {
          "name": "stdout",
          "output_type": "stream",
          "text": [
            "x values: [0.         1.57079633 3.14159265]\n",
            "sin(x): [0.0000000e+00 1.0000000e+00 1.2246468e-16]\n"
          ]
        }
      ],
      "source": [
        "x = np.array([0, np.pi/2, np.pi])\n",
        "y = np.sin(x)\n",
        "print(\"x values:\", x)\n",
        "print(\"sin(x):\", y)"
      ]
    },
    {
      "cell_type": "code",
      "execution_count": null,
      "metadata": {
        "colab": {
          "base_uri": "https://localhost:8080/"
        },
        "id": "WrWFRid3nLEg",
        "outputId": "294d41b1-b559-4743-df87-a7bc1a96f753"
      },
      "outputs": [
        {
          "name": "stdout",
          "output_type": "stream",
          "text": [
            "      Name  Age  Score\n",
            "0    Alice   25     85\n",
            "1      Bob   30     90\n",
            "2  Charlie   22     95\n"
          ]
        }
      ],
      "source": [
        "import pandas as pd\n",
        "data = {\n",
        "'Name': ['Alice', 'Bob', 'Charlie'],\n",
        "'Age': [25, 30, 22],\n",
        "'Score': [85, 90, 95]\n",
        "}\n",
        "df = pd.DataFrame(data)\n",
        "print(df)"
      ]
    },
    {
      "cell_type": "code",
      "execution_count": null,
      "metadata": {
        "colab": {
          "base_uri": "https://localhost:8080/"
        },
        "id": "IJH3WhMMlT2_",
        "outputId": "533a3cb0-7403-4a93-d4c7-f5039c3cb301"
      },
      "outputs": [
        {
          "name": "stdout",
          "output_type": "stream",
          "text": [
            "   SL.NO  NAME   REG.NO  ENGLISH  EM\n",
            "0      1   RAJ  24CS401       56  91\n",
            "1      2  RAVI  24CS402       74  75\n",
            "2      3   RAM  24CS403       68  85\n",
            "3      4  GOPI  24CS404       59  96\n",
            "<class 'pandas.core.frame.DataFrame'>\n",
            "RangeIndex: 4 entries, 0 to 3\n",
            "Data columns (total 5 columns):\n",
            " #   Column   Non-Null Count  Dtype \n",
            "---  ------   --------------  ----- \n",
            " 0   SL.NO    4 non-null      int64 \n",
            " 1   NAME     4 non-null      object\n",
            " 2   REG.NO   4 non-null      object\n",
            " 3   ENGLISH  4 non-null      int64 \n",
            " 4   EM       4 non-null      int64 \n",
            "dtypes: int64(3), object(2)\n",
            "memory usage: 292.0+ bytes\n",
            "None\n",
            "          SL.NO    ENGLISH         EM\n",
            "count  4.000000   4.000000   4.000000\n",
            "mean   2.500000  64.250000  86.750000\n",
            "std    1.290994   8.261356   9.032349\n",
            "min    1.000000  56.000000  75.000000\n",
            "25%    1.750000  58.250000  82.500000\n",
            "50%    2.500000  63.500000  88.000000\n",
            "75%    3.250000  69.500000  92.250000\n",
            "max    4.000000  74.000000  96.000000\n"
          ]
        }
      ],
      "source": [
        "df=pd.read_csv(\"ATTENDENCE.csv\")\n",
        "print(df.head())\n",
        "print(df.info())\n",
        "print(df.describe())"
      ]
    },
    {
      "cell_type": "code",
      "execution_count": null,
      "metadata": {
        "colab": {
          "base_uri": "https://localhost:8080/"
        },
        "id": "KsIZDyB4nWEJ",
        "outputId": "3cda3228-45ac-4f58-e660-5dafa6cfc131"
      },
      "outputs": [
        {
          "name": "stdout",
          "output_type": "stream",
          "text": [
            "   Name  Age\n",
            "1  Ravi   29\n",
            "2  Neha   26\n"
          ]
        }
      ],
      "source": [
        "import pandas as pd\n",
        "data = {\n",
        "'Name': ['Asha', 'Ravi', 'Neha'],\n",
        "'Age': [24, 29, 26]\n",
        "}\n",
        "df = pd.DataFrame(data)\n",
        "filtered_df = df[df['Age'] > 25]\n",
        "print(filtered_df)"
      ]
    },
    {
      "cell_type": "code",
      "execution_count": null,
      "metadata": {
        "colab": {
          "base_uri": "https://localhost:8080/"
        },
        "id": "7L18Nb_yneRX",
        "outputId": "2c41e8a0-024b-4996-f2ec-9d0bc9fac363"
      },
      "outputs": [
        {
          "name": "stdout",
          "output_type": "stream",
          "text": [
            "            Marks\n",
            "Department       \n",
            "CS           87.5\n",
            "IT           80.0\n"
          ]
        }
      ],
      "source": [
        "import pandas as pd\n",
        "data = {\n",
        "'Department': ['CS', 'CS', 'IT', 'IT'],\n",
        "'Marks': [85, 90, 78, 82]\n",
        "}\n",
        "df = pd.DataFrame(data)\n",
        "grouped = df.groupby('Department').mean()\n",
        "print(grouped)"
      ]
    },
    {
      "cell_type": "code",
      "execution_count": null,
      "metadata": {
        "colab": {
          "base_uri": "https://localhost:8080/"
        },
        "id": "rNJcU-jXnliI",
        "outputId": "7c9a38a9-9cac-4955-e6d9-3860ce7e579b"
      },
      "outputs": [
        {
          "name": "stdout",
          "output_type": "stream",
          "text": [
            "   Math  Science  Average\n",
            "0    90       95     92.5\n",
            "1    80       75     77.5\n",
            "2    85       88     86.5\n"
          ]
        }
      ],
      "source": [
        "import pandas as pd\n",
        "data = {\n",
        "'Math': [90, 80, 85],\n",
        "'Science': [95, 75, 88]\n",
        "}\n",
        "df = pd.DataFrame(data)\n",
        "\n",
        "df['Average'] = (df['Math'] + df['Science']) / 2\n",
        "\n",
        "print(df)\n",
        "\n",
        "df.to_csv(\"averages.csv\", index=False)"
      ]
    },
    {
      "cell_type": "code",
      "execution_count": null,
      "metadata": {
        "colab": {
          "base_uri": "https://localhost:8080/",
          "height": 472
        },
        "id": "8et57R_CnwWo",
        "outputId": "e6058d3e-73b5-4756-8c26-36a3824c7ad7"
      },
      "outputs": [
        {
          "data": {
            "image/png": "[encoded data removed]",
            "text/plain": [
              "<Figure size 640x480 with 1 Axes>"
            ]
          },
          "metadata": {},
          "output_type": "display_data"
        }
      ],
      "source": [
        "import matplotlib.pyplot as plt\n",
        "x = [1, 2, 3, 4, 5]\n",
        "y = [10, 12, 15, 18, 20]\n",
        "plt.plot(x, y)\n",
        "plt.title(\"Simple Line Graph\")\n",
        "plt.xlabel(\"X values\")\n",
        "plt.ylabel(\"Y values\")\n",
        "plt.show()"
      ]
    },
    {
      "cell_type": "code",
      "execution_count": null,
      "metadata": {
        "colab": {
          "base_uri": "https://localhost:8080/",
          "height": 472
        },
        "id": "Ha0FkIUUn13x",
        "outputId": "bb6b1474-26bf-4f5f-c4fa-72c463687ed3"
      },
      "outputs": [
        {
          "data": {
            "image/png": "[encoded data removed]",
            "text/plain": [
              "<Figure size 640x480 with 1 Axes>"
            ]
          },
          "metadata": {},
          "output_type": "display_data"
        }
      ],
      "source": [
        "import matplotlib.pyplot as plt\n",
        "students = ['Asha', 'Ravi', 'Neha']\n",
        "scores = [85, 90, 78]\n",
        "plt.bar(students, scores, color='skyblue')\n",
        "plt.title(\"Student Scores\")\n",
        "plt.xlabel(\"Students\")\n",
        "plt.ylabel(\"Marks\")\n",
        "plt.show()"
      ]
    },
    {
      "cell_type": "code",
      "execution_count": null,
      "metadata": {
        "colab": {
          "base_uri": "https://localhost:8080/",
          "height": 428
        },
        "id": "Gi0JzUaIn7V4",
        "outputId": "de187b9d-d517-4c7b-ef91-bf92568e0041"
      },
      "outputs": [
        {
          "data": {
            "image/png": "[encoded data removed]",
            "text/plain": [
              "<Figure size 640x480 with 1 Axes>"
            ]
          },
          "metadata": {},
          "output_type": "display_data"
        }
      ],
      "source": [
        "import matplotlib.pyplot as plt\n",
        "labels = ['Python', 'Java', 'C++', 'C']\n",
        "sizes = [40, 25, 20, 15]\n",
        "plt.pie(sizes, labels=labels, autopct='%1.1f%%', startangle=140)\n",
        "plt.title(\"Programming Language Usage\")\n",
        "plt.axis('equal')\n",
        "plt.show()"
      ]
    },
    {
      "cell_type": "code",
      "execution_count": null,
      "metadata": {
        "colab": {
          "base_uri": "https://localhost:8080/",
          "height": 472
        },
        "id": "L7I1N1-GoCvo",
        "outputId": "6719e16c-390b-4857-dc61-68c12806f684"
      },
      "outputs": [
        {
          "data": {
            "image/png": "[encoded data removed]",
            "text/plain": [
              "<Figure size 640x480 with 1 Axes>"
            ]
          },
          "metadata": {},
          "output_type": "display_data"
        }
      ],
      "source": [
        "import matplotlib.pyplot as plt\n",
        "ages = [18, 22, 21, 25, 30, 30, 27, 25, 22, 19]\n",
        "plt.hist(ages, bins=5, color='green')\n",
        "plt.title(\"Age Distribution\")\n",
        "plt.xlabel(\"Age\")\n",
        "plt.ylabel(\"Frequency\")\n",
        "plt.show()"
      ]
    },
    {
      "cell_type": "code",
      "execution_count": null,
      "metadata": {
        "colab": {
          "base_uri": "https://localhost:8080/",
          "height": 472
        },
        "id": "kQ9eod1xoIl5",
        "outputId": "583332ec-d83e-40e4-daa0-75bc7d386b99"
      },
      "outputs": [
        {
          "data": {
            "image/png": "[encoded data removed]",
            "text/plain": [
              "<Figure size 640x480 with 1 Axes>"
            ]
          },
          "metadata": {},
          "output_type": "display_data"
        }
      ],
      "source": [
        "import matplotlib.pyplot as plt\n",
        "x = [1, 2, 3, 4, 5]\n",
        "y = [5, 7, 6, 8, 10]\n",
        "plt.scatter(x, y, color='red')\n",
        "plt.title(\"Scatter Plot Example\")\n",
        "plt.xlabel(\"X values\")\n",
        "plt.ylabel(\"Y values\")\n",
        "plt.show()"
      ]
    },
    {
      "cell_type": "code",
      "execution_count": null,
      "metadata": {
        "colab": {
          "base_uri": "https://localhost:8080/"
        },
        "id": "nhnf7JIhuE6C",
        "outputId": "4f8e1b8f-25f5-4277-cde4-fe7a637331e2"
      },
      "outputs": [
        {
          "output_type": "stream",
          "name": "stdout",
          "text": [
            "8\n"
          ]
        }
      ],
      "source": [
        "add = lambda x, y: x + y\n",
        "print(add(5, 3))"
      ]
    },
    {
      "cell_type": "code",
      "execution_count": null,
      "metadata": {
        "colab": {
          "base_uri": "https://localhost:8080/"
        },
        "id": "auhet-T3ylQI",
        "outputId": "058af318-a510-4bd7-a00a-61b554d2b9b3"
      },
      "outputs": [
        {
          "name": "stdout",
          "output_type": "stream",
          "text": [
            "16\n"
          ]
        }
      ],
      "source": [
        "square=lambda x:x**2\n",
        "print(square(4))"
      ]
    },
    {
      "cell_type": "code",
      "execution_count": null,
      "metadata": {
        "colab": {
          "base_uri": "https://localhost:8080/"
        },
        "id": "OzuWWyFSy_mI",
        "outputId": "7783ac5d-e0c5-415f-8502-a3ec7d07918d"
      },
      "outputs": [
        {
          "name": "stdout",
          "output_type": "stream",
          "text": [
            "[2, 4, 6]\n"
          ]
        }
      ],
      "source": [
        "numbers=[1,2,3,4,5,6]\n",
        "even_numbers=list(filter(lambda x:x%2==0,numbers))\n",
        "print(even_numbers)"
      ]
    },
    {
      "cell_type": "code",
      "execution_count": null,
      "metadata": {
        "colab": {
          "base_uri": "https://localhost:8080/"
        },
        "id": "-Tuwz5NTzpuH",
        "outputId": "a5432694-d0b4-433f-f965-139d9778362e"
      },
      "outputs": [
        {
          "name": "stdout",
          "output_type": "stream",
          "text": [
            "[(1, 'apple'), (3, 'banana'), (2, 'cherry')]\n"
          ]
        }
      ],
      "source": [
        "data=[(1,'apple'),(3,'banana'),(2,'cherry')]\n",
        "sorted_data=sorted(data,key=lambda x:x[1])\n",
        "print(sorted_data)"
      ]
    },
    {
      "cell_type": "code",
      "execution_count": null,
      "metadata": {
        "colab": {
          "base_uri": "https://localhost:8080/"
        },
        "id": "mSvok_jj0q_W",
        "outputId": "16e11528-fcaa-40e6-9015-cd517c90e572"
      },
      "outputs": [
        {
          "name": "stdout",
          "output_type": "stream",
          "text": [
            "[(1, 'apple'), (3, 'banana'), (2, 'cherry')]\n"
          ]
        }
      ],
      "source": [
        "multiply=lambda x,y,z:x*y*z\n",
        "print(sorted_data)"
      ]
    },
    {
      "cell_type": "code",
      "execution_count": null,
      "metadata": {
        "colab": {
          "base_uri": "https://localhost:8080/"
        },
        "id": "XbmdByaO1GeW",
        "outputId": "e9a51596-be5c-4216-c9ba-246ad049def5"
      },
      "outputs": [
        {
          "name": "stdout",
          "output_type": "stream",
          "text": [
            "[2, 4, 6, 8, 10]\n"
          ]
        }
      ],
      "source": [
        "numbers=[1,2,3,4,5]\n",
        "doubled=list(map(lambda x:x*2,numbers))\n",
        "print(doubled)"
      ]
    },
    {
      "cell_type": "code",
      "execution_count": null,
      "metadata": {
        "colab": {
          "base_uri": "https://localhost:8080/"
        },
        "id": "jWTrWPvR1sWG",
        "outputId": "18f14c8c-9440-4683-a9b2-454a0dc70fa8"
      },
      "outputs": [
        {
          "name": "stdout",
          "output_type": "stream",
          "text": [
            "[15, 25]\n"
          ]
        }
      ],
      "source": [
        "numbers=[10,15,20,25,30]\n",
        "odds=list(filter(lambda x:x%2!=0,numbers))\n",
        "print(odds)"
      ]
    },
    {
      "cell_type": "code",
      "execution_count": null,
      "metadata": {
        "colab": {
          "base_uri": "https://localhost:8080/"
        },
        "id": "royFiaL72QyN",
        "outputId": "8c314d09-0667-47f6-da79-91e0258fe71f"
      },
      "outputs": [
        {
          "name": "stdout",
          "output_type": "stream",
          "text": [
            "[{'name': 'Charlie', 'Score': 78}, {'name': 'Alice', 'Score': 85}, {'name': 'Bob', 'Score': 92}]\n"
          ]
        }
      ],
      "source": [
        "students = [\n",
        "    {\"name\": \"Alice\", \"Score\": 85},\n",
        "    {\"name\": \"Bob\", \"Score\": 92},\n",
        "    {\"name\": \"Charlie\", \"Score\": 78}\n",
        "]\n",
        "\n",
        "sorted_students = sorted(students, key=lambda student: student['Score'])\n",
        "print(sorted_students)\n"
      ]
    },
    {
      "cell_type": "code",
      "execution_count": null,
      "metadata": {
        "colab": {
          "base_uri": "https://localhost:8080/"
        },
        "id": "cRD7Uvhp31RE",
        "outputId": "9c5737f7-a4ff-4599-b9d4-d2eb2991915a"
      },
      "outputs": [
        {
          "name": "stdout",
          "output_type": "stream",
          "text": [
            "10\n",
            "15\n"
          ]
        }
      ],
      "source": [
        "def make_multiplier(n):\n",
        "    return lambda x: x * n\n",
        "\n",
        "double = make_multiplier(2)\n",
        "triple = make_multiplier(3)\n",
        "\n",
        "print(double(5))\n",
        "print(triple(5))"
      ]
    },
    {
      "cell_type": "code",
      "execution_count": null,
      "metadata": {
        "colab": {
          "base_uri": "https://localhost:8080/"
        },
        "id": "xs-KDIGB5WqH",
        "outputId": "9fc1cdef-45ba-4f61-bf82-fe5cdb19e147"
      },
      "outputs": [
        {
          "name": "stdout",
          "output_type": "stream",
          "text": [
            "Even\n",
            "Odd\n"
          ]
        }
      ],
      "source": [
        "check_even = lambda x: \"Even\" if x % 2 == 0 else \"Odd\"\n",
        "\n",
        "print(check_even(4))\n",
        "print(check_even(7))"
      ]
    },
    {
      "cell_type": "code",
      "execution_count": null,
      "metadata": {
        "colab": {
          "base_uri": "https://localhost:8080/"
        },
        "id": "01YI5Nl58FKw",
        "outputId": "988ca52f-ebdd-4edf-92b7-5087a21b438b"
      },
      "outputs": [
        {
          "name": "stdout",
          "output_type": "stream",
          "text": [
            "24\n"
          ]
        }
      ],
      "source": [
        "from functools import reduce\n",
        "\n",
        "numbers = [1, 2, 3, 4]\n",
        "product = reduce(lambda x, y: x * y, numbers)\n",
        "print(product)\n"
      ]
    },
    {
      "cell_type": "code",
      "execution_count": null,
      "metadata": {
        "colab": {
          "base_uri": "https://localhost:8080/"
        },
        "id": "rx8oDVh--_g6",
        "outputId": "247760f8-7f61-4003-ec40-a01decb0fc70"
      },
      "outputs": [
        {
          "name": "stdout",
          "output_type": "stream",
          "text": [
            "['Jhon', 'Doe', 'Alice']\n"
          ]
        }
      ],
      "source": [
        "names = [\"jhon\", \"DOE\", \"ALICE\"]\n",
        "capitalized = list(map(lambda name: name.capitalize(), names))\n",
        "print(capitalized)\n"
      ]
    },
    {
      "cell_type": "code",
      "execution_count": null,
      "metadata": {
        "colab": {
          "base_uri": "https://localhost:8080/"
        },
        "id": "24m077zd_2mi",
        "outputId": "fd337ddf-652a-451e-a5b0-6582c4814fdb"
      },
      "outputs": [
        {
          "name": "stdout",
          "output_type": "stream",
          "text": [
            "['gmail.com', 'test.com']\n"
          ]
        }
      ],
      "source": [
        "emails = [\"alice@gmail.com\", \"bob@test.com\"]\n",
        "domains = list(map(lambda email: email.split('@')[1], emails))\n",
        "print(domains)\n"
      ]
    },
    {
      "cell_type": "code",
      "execution_count": null,
      "metadata": {
        "colab": {
          "base_uri": "https://localhost:8080/"
        },
        "id": "LjC1Z3sIA5po",
        "outputId": "2985f8b3-b07d-4da5-baa9-f2c9ffa7b8ca"
      },
      "outputs": [
        {
          "name": "stdout",
          "output_type": "stream",
          "text": [
            "True\n",
            "True\n"
          ]
        }
      ],
      "source": [
        "numbers=[2,4,6,8]\n",
        "all_even=all(map(lambda x:x%2==0,numbers))\n",
        "print(all_even)\n",
        "any_gt_5=any(map(lambda x:x>5,numbers))\n",
        "print(any_gt_5)"
      ]
    },
    {
      "cell_type": "code",
      "execution_count": null,
      "metadata": {
        "colab": {
          "base_uri": "https://localhost:8080/"
        },
        "id": "fKsSI5rNC9JI",
        "outputId": "9064c37a-560f-409f-ebb4-073e129919dd"
      },
      "outputs": [
        {
          "name": "stdout",
          "output_type": "stream",
          "text": [
            "['fig', 'apple', 'banana', 'cherry']\n"
          ]
        }
      ],
      "source": [
        "words=[\"apple\",\"banana\",\"cherry\",\"fig\"]\n",
        "sorted_words=sorted(words,key=lambda word:len(word))\n",
        "print(sorted_words)"
      ]
    },
    {
      "cell_type": "code",
      "execution_count": null,
      "metadata": {
        "colab": {
          "base_uri": "https://localhost:8080/"
        },
        "id": "PfZ8o9Zi-ZIY",
        "outputId": "3d331ec8-90ba-439d-b7fe-dd42776eb58d"
      },
      "outputs": [
        {
          "name": "stdout",
          "output_type": "stream",
          "text": [
            "adbmalsnoitcnuferalufrewop\n"
          ]
        }
      ],
      "source": [
        "sentence=\"lambda functions are powerful\"\n",
        "reversed_words=list(map(lambda word:word[::-1],sentence.split()))\n",
        "print(\"\".join(reversed_words))"
      ]
    },
    {
      "cell_type": "code",
      "execution_count": null,
      "metadata": {
        "colab": {
          "base_uri": "https://localhost:8080/"
        },
        "id": "m28Ftv6NASjH",
        "outputId": "69998499-6453-427a-e198-5799ab9763e5"
      },
      "outputs": [
        {
          "name": "stdout",
          "output_type": "stream",
          "text": [
            "['Charlie Brown', 'Alice Jhonson', 'Bob Smith']\n"
          ]
        }
      ],
      "source": [
        "people=[\"Alice Jhonson\",\"Bob Smith\",\"Charlie Brown\"]\n",
        "sorted_by_last=sorted(people,key=lambda name:name.split()[-1])\n",
        "print(sorted_by_last)"
      ]
    },
    {
      "cell_type": "code",
      "execution_count": null,
      "metadata": {
        "colab": {
          "base_uri": "https://localhost:8080/"
        },
        "id": "fk-yMJl3BGdu",
        "outputId": "495853ee-b908-4ab5-daf2-63ebfb9709b1"
      },
      "outputs": [
        {
          "name": "stdout",
          "output_type": "stream",
          "text": [
            "15\n",
            "1.0\n"
          ]
        }
      ],
      "source": [
        "operations = {\n",
        "    'add': lambda x, y: x + y,\n",
        "    'sub': lambda x, y: x - y,\n",
        "    'mul': lambda x, y: x * y,\n",
        "    'div': lambda x, y: x / y if y != 0 else 'Error'\n",
        "}\n",
        "\n",
        "print(operations['add'](10, 5))\n",
        "print(operations['div'](10, 10))\n"
      ]
    },
    {
      "cell_type": "code",
      "execution_count": null,
      "metadata": {
        "colab": {
          "base_uri": "https://localhost:8080/"
        },
        "id": "yngBZLO8Em85",
        "outputId": "0bfb3193-ff33-4893-c2a0-f55c44edf6fb"
      },
      "outputs": [
        {
          "name": "stdout",
          "output_type": "stream",
          "text": [
            "[6, 12, 18]\n"
          ]
        }
      ],
      "source": [
        "numbers = list(range(1, 21))\n",
        "\n",
        "filtered = list(filter(lambda x: x % 2 == 0 and x % 3 == 0, numbers))\n",
        "print(filtered)"
      ]
    },
    {
      "cell_type": "code",
      "execution_count": null,
      "metadata": {
        "colab": {
          "base_uri": "https://localhost:8080/"
        },
        "id": "ZPgoBIbmEvrL",
        "outputId": "bc78025b-e40d-443d-dc39-000626df764b"
      },
      "outputs": [
        {
          "name": "stdout",
          "output_type": "stream",
          "text": [
            "Even\n",
            "Odd\n"
          ]
        }
      ],
      "source": [
        "check_even_odd = lambda num: \"Even\" if num % 2 == 0 else \"Odd\"\n",
        "print(check_even_odd(4))\n",
        "print(check_even_odd(7))\n"
      ]
    },
    {
      "cell_type": "code",
      "execution_count": null,
      "metadata": {
        "colab": {
          "base_uri": "https://localhost:8080/"
        },
        "id": "RC0FA52DE8Nr",
        "outputId": "40230ce9-57df-4953-921b-e3efbebd73b9"
      },
      "outputs": [
        {
          "name": "stdout",
          "output_type": "stream",
          "text": [
            "GEEKSFORGEEKS\n"
          ]
        }
      ],
      "source": [
        "s1 = 'GeeksforGeeks'\n",
        "\n",
        "s2 = lambda func: func.upper()\n",
        "print(s2(s1))\n"
      ]
    },
    {
      "cell_type": "code",
      "execution_count": null,
      "metadata": {
        "colab": {
          "base_uri": "https://localhost:8080/"
        },
        "id": "dLW6ndWuFGoT",
        "outputId": "906b374f-f4ac-48d1-dc36-d582a1450153"
      },
      "outputs": [
        {
          "name": "stdout",
          "output_type": "stream",
          "text": [
            "Positive\n",
            "Negative\n",
            "Zero\n"
          ]
        }
      ],
      "source": [
        "n = lambda x: \"Positive\" if x > 0 else \"Negative\" if x < 0 else \"Zero\"\n",
        "\n",
        "print(n(5))\n",
        "print(n(-3))\n",
        "print(n(0))\n",
        "\n"
      ]
    },
    {
      "cell_type": "code",
      "execution_count": null,
      "metadata": {
        "colab": {
          "base_uri": "https://localhost:8080/"
        },
        "id": "7VxFgDlzFUfz",
        "outputId": "f493d91f-8709-4593-adc4-66fa11e3b02d"
      },
      "outputs": [
        {
          "name": "stdout",
          "output_type": "stream",
          "text": [
            "10\n",
            "20\n",
            "30\n",
            "40\n"
          ]
        }
      ],
      "source": [
        "li = [lambda arg=x: arg * 10 for x in range(1, 5)]\n",
        "for i in li:\n",
        "    print(i())"
      ]
    },
    {
      "cell_type": "code",
      "execution_count": null,
      "metadata": {
        "colab": {
          "base_uri": "https://localhost:8080/"
        },
        "id": "e0nrwFF-FcQL",
        "outputId": "e046eb30-afb0-4c40-c9e6-45f8164b802f"
      },
      "outputs": [
        {
          "name": "stdout",
          "output_type": "stream",
          "text": [
            "Even\n",
            "Odd\n"
          ]
        }
      ],
      "source": [
        "check = lambda x: \"Even\" if x % 2 == 0 else \"Odd\"\n",
        "\n",
        "print(check(4))\n",
        "print(check(7))\n"
      ]
    },
    {
      "cell_type": "code",
      "execution_count": null,
      "metadata": {
        "colab": {
          "base_uri": "https://localhost:8080/"
        },
        "id": "4EMz-5VKFgGb",
        "outputId": "264b7669-eea9-45b5-802d-4092a1911fca"
      },
      "outputs": [
        {
          "name": "stdout",
          "output_type": "stream",
          "text": [
            "(7, 12)\n"
          ]
        }
      ],
      "source": [
        "calc = lambda x, y: (x + y, x * y)\n",
        "\n",
        "res = calc(3, 4)\n",
        "print(res)\n"
      ]
    },
    {
      "cell_type": "code",
      "execution_count": null,
      "metadata": {
        "colab": {
          "base_uri": "https://localhost:8080/"
        },
        "id": "xoMZN-agFvQq",
        "outputId": "51bef378-1a58-4b60-c8cd-2132a6c38688"
      },
      "outputs": [
        {
          "name": "stdout",
          "output_type": "stream",
          "text": [
            "[2, 4, 6]\n"
          ]
        }
      ],
      "source": [
        "n = [1, 2, 3, 4, 5, 6]\n",
        "even = filter(lambda x: x % 2 == 0, n)\n",
        "print(list(even))\n",
        "\n"
      ]
    },
    {
      "cell_type": "code",
      "execution_count": null,
      "metadata": {
        "colab": {
          "base_uri": "https://localhost:8080/"
        },
        "id": "i_pDdNrOF24D",
        "outputId": "de446d42-0734-4c30-e0a2-5cc52cbd185e"
      },
      "outputs": [
        {
          "name": "stdout",
          "output_type": "stream",
          "text": [
            "[2, 4, 6, 8]\n"
          ]
        }
      ],
      "source": [
        "a = [1, 2, 3, 4]\n",
        "b = map(lambda x: x * 2, a)\n",
        "print(list(b))"
      ]
    },
    {
      "cell_type": "code",
      "execution_count": null,
      "metadata": {
        "colab": {
          "base_uri": "https://localhost:8080/"
        },
        "id": "w5ND0d1xGBmz",
        "outputId": "c11d4409-c73b-4bd7-d24d-a646ea820a06"
      },
      "outputs": [
        {
          "name": "stdout",
          "output_type": "stream",
          "text": [
            "24\n"
          ]
        }
      ],
      "source": [
        "from functools import reduce\n",
        "\n",
        "\n",
        "a = [1, 2, 3, 4]\n",
        "b = reduce(lambda x, y: x * y, a)\n",
        "print(b)"
      ]
    },
    {
      "cell_type": "code",
      "execution_count": null,
      "metadata": {
        "colab": {
          "base_uri": "https://localhost:8080/"
        },
        "id": "B_ztC7v0Gpnp",
        "outputId": "840cb8e7-7b61-4107-89b1-2ca88bac729d"
      },
      "outputs": [
        {
          "name": "stdout",
          "output_type": "stream",
          "text": [
            "Multiply two Series:\n",
            "0     2\n",
            "1    12\n",
            "2    56\n",
            "3    90\n",
            "dtype: int64\n",
            "Divide Series1 by Series2:\n",
            "0    2.000000\n",
            "1    1.333333\n",
            "2    1.142857\n",
            "3    1.111111\n",
            "dtype: float64\n"
          ]
        }
      ],
      "source": [
        "import pandas as pd\n",
        "ds1 = pd.Series([2, 4, 8, 10])\n",
        "ds2 = pd.Series([1, 3, 7, 9])\n",
        "print(\"Multiply two Series:\")\n",
        "ds = ds1 * ds2\n",
        "print(ds)\n",
        "print(\"Divide Series1 by Series2:\")\n",
        "ds = ds1 / ds2\n",
        "print(ds)"
      ]
    },
    {
      "cell_type": "code",
      "execution_count": null,
      "metadata": {
        "colab": {
          "base_uri": "https://localhost:8080/"
        },
        "id": "nS0kI2OiKpgi",
        "outputId": "c2f79631-0ecc-4a00-8c89-e741d5949f57"
      },
      "outputs": [
        {
          "name": "stdout",
          "output_type": "stream",
          "text": [
            "Original dictionary:\n",
            "{'a': 100, 'b': 200, 'c': 300}\n",
            "Converted series:\n",
            "a    100\n",
            "b    200\n",
            "c    300\n",
            "dtype: int64\n"
          ]
        }
      ],
      "source": [
        "import pandas as pd\n",
        "d1 = {'a': 100, 'b': 200, 'c':300}\n",
        "print(\"Original dictionary:\")\n",
        "print(d1)\n",
        "new_series = pd.Series(d1)\n",
        "print(\"Converted series:\")\n",
        "print(new_series)"
      ]
    },
    {
      "cell_type": "code",
      "execution_count": null,
      "metadata": {
        "colab": {
          "base_uri": "https://localhost:8080/"
        },
        "id": "uOT1UnU5K-g4",
        "outputId": "3a891be8-b726-4433-e5ed-99644a8faaaf"
      },
      "outputs": [
        {
          "name": "stdout",
          "output_type": "stream",
          "text": [
            "Original Data Series:\n",
            "0    400.00\n",
            "1    300.12\n",
            "2    100.00\n",
            "3    200.00\n",
            "dtype: float64\n",
            "2    100.00\n",
            "3    200.00\n",
            "1    300.12\n",
            "0    400.00\n",
            "dtype: float64\n"
          ]
        }
      ],
      "source": [
        "import pandas as pd\n",
        "s = pd.Series([400, 300.12,100, 200])\n",
        "print(\"Original Data Series:\")\n",
        "print(s)\n",
        "new_s = pd.Series(s).sort_values()\n",
        "print(new_s)"
      ]
    },
    {
      "cell_type": "code",
      "execution_count": null,
      "metadata": {
        "colab": {
          "base_uri": "https://localhost:8080/"
        },
        "id": "YBwX_P25Lcr4",
        "outputId": "f6c3319e-1d21-41a6-e761-eb2749a0010c"
      },
      "outputs": [
        {
          "name": "stdout",
          "output_type": "stream",
          "text": [
            "Original Data Series:\n",
            "A    1\n",
            "B    2\n",
            "C    3\n",
            "dtype: int64\n",
            "Data Series after changing the order of index:\n",
            "B    2\n",
            "A    1\n",
            "C    3\n",
            "dtype: int64\n"
          ]
        }
      ],
      "source": [
        "import pandas as pd\n",
        "s = pd.Series(data = [1,2,3], index = ['A', 'B', 'C'])\n",
        "print(\"Original Data Series:\")\n",
        "print(s)\n",
        "s = s.reindex(index = ['B','A','C'])\n",
        "print(\"Data Series after changing the order of index:\")\n",
        "print(s)"
      ]
    },
    {
      "cell_type": "code",
      "execution_count": null,
      "metadata": {
        "colab": {
          "base_uri": "https://localhost:8080/"
        },
        "id": "V9y6_ERtMxBh",
        "outputId": "ba5de6ef-a689-4c57-c860-e0d1a6ebc454"
      },
      "outputs": [
        {
          "name": "stdout",
          "output_type": "stream",
          "text": [
            "Original Series:\n",
            "sr1:\n",
            "0    1\n",
            "1    2\n",
            "2    3\n",
            "dtype: int64\n",
            "sr2:\n",
            "0    2\n",
            "1    3\n",
            "2    6\n",
            "dtype: int64\n",
            "\n",
            "Items of a given series not present in another given series:\n",
            "0    1\n",
            "3    6\n",
            "dtype: int64\n"
          ]
        }
      ],
      "source": [
        "import pandas as pd\n",
        "import numpy as np\n",
        "sr1 = pd.Series([1, 2, 3])\n",
        "sr2 = pd.Series([2, 3, 6])\n",
        "print(\"Original Series:\")\n",
        "print(\"sr1:\")\n",
        "print(sr1)\n",
        "print(\"sr2:\")\n",
        "print(sr2)\n",
        "print(\"\\nItems of a given series not present in another given series:\")\n",
        "sr11 = pd.Series(np.union1d(sr1, sr2))\n",
        "sr22 = pd.Series(np.intersect1d(sr1, sr2))\n",
        "result = sr11[~sr11.isin(sr22)]\n",
        "print(result)"
      ]
    },
    {
      "cell_type": "code",
      "execution_count": null,
      "metadata": {
        "colab": {
          "base_uri": "https://localhost:8080/"
        },
        "id": "GFSM5cIlNQun",
        "outputId": "7323087b-9dfa-4b88-bed0-9900f7ba980c"
      },
      "outputs": [
        {
          "name": "stdout",
          "output_type": "stream",
          "text": [
            "         name  score\n",
            "NAME   Manish   12.5\n",
            "SCORE  Dhiraj    9.0\n"
          ]
        }
      ],
      "source": [
        "import pandas as pd\n",
        "import numpy as np\n",
        "exam_data  = {'name': ['Manish', 'Dhiraj'],\n",
        "'score': [12.5, 9]}\n",
        "labels = ['NAME', 'SCORE']\n",
        "df = pd.DataFrame(exam_data , index=labels)\n",
        "print(df)"
      ]
    },
    {
      "cell_type": "code",
      "execution_count": null,
      "metadata": {
        "colab": {
          "base_uri": "https://localhost:8080/"
        },
        "id": "FzWyf_q4N5xv",
        "outputId": "cc1230e1-6c6b-4da3-f5fb-a9f2beb4a736"
      },
      "outputs": [
        {
          "name": "stdout",
          "output_type": "stream",
          "text": [
            "First three rows of the data frame:\n",
            "     name  score\n",
            "0  Manish   12.5\n",
            "1  Dhiraj   91.0\n",
            "2     Man    2.5\n"
          ]
        }
      ],
      "source": [
        "import pandas as pd\n",
        "import numpy as np\n",
        "exam_data  = {'name': ['Manish', 'Dhiraj','Man', 'Dhir'],\n",
        "        'score': [12.5, 91,2.5, 9]}\n",
        "df = pd.DataFrame(exam_data )\n",
        "print(\"First three rows of the data frame:\")\n",
        "print(df.iloc[:3])"
      ]
    },
    {
      "cell_type": "code",
      "execution_count": null,
      "metadata": {
        "colab": {
          "base_uri": "https://localhost:8080/"
        },
        "id": "LB0u44NANWla",
        "outputId": "5b63eb9a-7eff-4193-cd43-972fb6909b2a"
      },
      "outputs": [
        {
          "name": "stdout",
          "output_type": "stream",
          "text": [
            "Number of Rows: 4\n",
            "Number of Columns: 2\n"
          ]
        }
      ],
      "source": [
        "import pandas as pd\n",
        "import numpy as np\n",
        "exam_data = {'name': ['Manish', 'Dhiraj','Man', 'Dhir'],\n",
        "'score': [12.5, 91,2.5, 9]}\n",
        "df = pd.DataFrame(exam_data )\n",
        "total_rows=len(df.axes[0])\n",
        "total_cols=len(df.axes[1])\n",
        "print(\"Number of Rows: \"+str(total_rows))\n",
        "print(\"Number of Columns: \"+str(total_cols))"
      ]
    },
    {
      "cell_type": "code",
      "execution_count": null,
      "metadata": {
        "colab": {
          "base_uri": "https://localhost:8080/"
        },
        "id": "ENbaVSmMPcCC",
        "outputId": "1c4fa23d-a89b-4b07-fc9f-c8c1f40b340f"
      },
      "outputs": [
        {
          "name": "stdout",
          "output_type": "stream",
          "text": [
            "Rows where score between 15 and 20 (inclusive):\n",
            "   name  score\n",
            "3  Dhir   19.0\n"
          ]
        }
      ],
      "source": [
        "import pandas as pd\n",
        "import numpy as np\n",
        "exam_data = {'name': ['Manish', 'Dhiraj','Man', 'Dhir'],\n",
        "'score': [12.5, 91,20.5, 19]}\n",
        "df = pd.DataFrame(exam_data )\n",
        "print(\"Rows where score between 15 and 20 (inclusive):\")\n",
        "print(df[df['score'].between(15, 20)])"
      ]
    },
    {
      "cell_type": "code",
      "execution_count": null,
      "metadata": {
        "colab": {
          "base_uri": "https://localhost:8080/"
        },
        "id": "IGJ0Q3JtSTkC",
        "outputId": "91b041f2-fa16-449c-de5b-e577f59141e0"
      },
      "outputs": [
        {
          "name": "stdout",
          "output_type": "stream",
          "text": [
            "Sort the data frame first by ‘name’ in descending order, then by ‘score’ in ascending order:\n",
            "     name  score\n",
            "3    Dhir   19.0\n",
            "1  Dhiraj   91.0\n",
            "2     Man   20.5\n",
            "0  Manish   12.5\n"
          ]
        }
      ],
      "source": [
        "import pandas as pd\n",
        "import numpy as np\n",
        "exam_data = {'name': ['Manish', 'Dhiraj','Man', 'Dhir'],\n",
        "'score': [12.5, 91,20.5, 19]}\n",
        "df = pd.DataFrame(exam_data )\n",
        "result_sort=df.sort_values(by=['name', 'score'], ascending=[True, True])\n",
        "print(\"Sort the data frame first by ‘name’ in descending order, then by ‘score’ in ascending order:\")\n",
        "print(result_sort)"
      ]
    },
    {
      "cell_type": "code",
      "execution_count": null,
      "metadata": {
        "colab": {
          "base_uri": "https://localhost:8080/"
        },
        "id": "4-STlXNacqBY",
        "outputId": "e734805b-f186-4ca9-a70b-2f43ae071b97"
      },
      "outputs": [
        {
          "name": "stdout",
          "output_type": "stream",
          "text": [
            "     name  score\n",
            "0   anish   12.5\n",
            "1  Dhiraj   91.0\n",
            "2     Man   20.5\n",
            "3    Dhir   19.0\n"
          ]
        }
      ],
      "source": [
        "import pandas as pd\n",
        "import numpy as np\n",
        "exam_data = {'name': ['Manish', 'Dhiraj','Man', 'Dhir'],\n",
        "'score': [12.5, 91,20.5, 19]}\n",
        "df = pd.DataFrame(exam_data )\n",
        "df['name']=df['name'].replace('Manish','anish')\n",
        "print(df)"
      ]
    },
    {
      "cell_type": "code",
      "execution_count": null,
      "metadata": {
        "colab": {
          "base_uri": "https://localhost:8080/"
        },
        "id": "euiTcI7VgbIn",
        "outputId": "ff589462-db60-40c2-8862-b819b389bbb5"
      },
      "outputs": [
        {
          "name": "stdout",
          "output_type": "stream",
          "text": [
            "\n",
            "New Data Frame after inserting the 'medium' column:\n",
            "     name  score   medium\n",
            "0  Manish   12.5  english\n",
            "1  Dhiraj   91.0    hindi\n",
            "2     Man   20.5    hindi\n",
            "3    Dhir   19.0  english\n"
          ]
        }
      ],
      "source": [
        "import pandas as pd\n",
        "import numpy as np\n",
        "exam_data = {'name': ['Manish', 'Dhiraj', 'Man', 'Dhir'],\n",
        "             'score': [12.5, 91, 20.5, 19]}\n",
        "df = pd.DataFrame(exam_data)\n",
        "medium = ['english', 'hindi', 'hindi', 'english']\n",
        "df['medium'] = medium\n",
        "print(\"\\nNew Data Frame after inserting the 'medium' column:\")\n",
        "print(df)\n"
      ]
    },
    {
      "cell_type": "code",
      "execution_count": null,
      "metadata": {
        "colab": {
          "base_uri": "https://localhost:8080/"
        },
        "id": "ot0kLl7umUeX",
        "outputId": "3b1d85d0-6af8-448e-c8c2-ff2eb2965d83"
      },
      "outputs": [
        {
          "name": "stdout",
          "output_type": "stream",
          "text": [
            "New DataFrame after renaming columns:\n",
            "     NAME  SCORE\n",
            "0  Manish   12.5\n",
            "1  Dhiraj   19.0\n",
            "2     Man   20.5\n",
            "3    dhir   19.0\n"
          ]
        }
      ],
      "source": [
        "import pandas as pd\n",
        "exam_data = {'name': ['Manish', 'Dhiraj', 'Man', 'dhir'],\n",
        "             'score': [12.5, 19, 20.5, 19]}\n",
        "df = pd.DataFrame(exam_data)\n",
        "df = df.rename(columns={'name': 'NAME', 'score': 'SCORE'})\n",
        "print(\"New DataFrame after renaming columns:\")\n",
        "print(df)\n"
      ]
    },
    {
      "cell_type": "code",
      "execution_count": null,
      "metadata": {
        "colab": {
          "base_uri": "https://localhost:8080/"
        },
        "id": "9yEI488Zr6id",
        "outputId": "0c4736f1-0638-434c-8b84-ac39c11401df"
      },
      "outputs": [
        {
          "name": "stdout",
          "output_type": "stream",
          "text": [
            "New DataFrame\n",
            "  name  score\n",
            "2  Man   20.5\n"
          ]
        }
      ],
      "source": [
        "import pandas as pd\n",
        "import numpy as np\n",
        "exam_data = {'name': ['Manish', 'Dhiraj', 'Man', 'dhir'],\n",
        "             'score': [12.5, 19, 20.5, 19]}\n",
        "df = pd.DataFrame(exam_data)\n",
        "df = df[df.score >= 20]\n",
        "print(\"New DataFrame\")\n",
        "print(df)\n"
      ]
    },
    {
      "cell_type": "code",
      "execution_count": null,
      "metadata": {
        "colab": {
          "base_uri": "https://localhost:8080/"
        },
        "id": "NKSbcUjYgXx3",
        "outputId": "dd72af8c-6cff-4ce2-d586-586ae08eef5c"
      },
      "outputs": [
        {
          "output_type": "stream",
          "name": "stdout",
          "text": [
            "Data Series:\n",
            "0    100\n",
            "1    200\n",
            "2    300\n",
            "3    400\n",
            "dtype: object\n",
            "0    10\n",
            "1    20\n",
            "2    30\n",
            "3    40\n",
            "dtype: object\n",
            "     0   1\n",
            "0  100  10\n",
            "1  200  20\n",
            "2  300  30\n",
            "3  400  40\n"
          ]
        }
      ],
      "source": [
        "import pandas as pd\n",
        "import numpy as np\n",
        "s1=pd.Series(['100','200','300','400'])\n",
        "s2=pd.Series(['10','20','30','40'])\n",
        "print(\"Data Series:\")\n",
        "print(s1)\n",
        "print(s2)\n",
        "df=pd.concat([s1,s2],axis=1)\n",
        "print(pd.concat([s1,s2],axis=1))\n",
        "s1=pd.to_numeric(s1,errors='coerce')"
      ]
    },
    {
      "cell_type": "code",
      "execution_count": null,
      "metadata": {
        "colab": {
          "base_uri": "https://localhost:8080/"
        },
        "id": "-Md1bqbDTOcC",
        "outputId": "bfa6ada9-4dff-41b9-de58-34107f5a98a8"
      },
      "outputs": [
        {
          "name": "stdout",
          "output_type": "stream",
          "text": [
            "0     5\n",
            "1    10\n",
            "2    15\n",
            "3    20\n",
            "4    25\n",
            "dtype: int64\n"
          ]
        }
      ],
      "source": [
        "import pandas as pd\n",
        "s1 = pd.Series([5,10,15,20,25])\n",
        "print(s1)"
      ]
    },
    {
      "cell_type": "code",
      "execution_count": null,
      "metadata": {
        "colab": {
          "base_uri": "https://localhost:8080/"
        },
        "id": "EEFMFetzVRgL",
        "outputId": "8ccbeb66-30f4-4845-f821-9b91c7532ea6"
      },
      "outputs": [
        {
          "name": "stdout",
          "output_type": "stream",
          "text": [
            "a     5\n",
            "b    10\n",
            "c    15\n",
            "d    20\n",
            "e    25\n",
            "dtype: int64\n"
          ]
        }
      ],
      "source": [
        "import pandas as pd\n",
        "s1 = pd.Series([5,10,15,20,25],index=['a','b','c','d','e'])\n",
        "print(s1)"
      ]
    },
    {
      "cell_type": "code",
      "execution_count": null,
      "metadata": {
        "colab": {
          "base_uri": "https://localhost:8080/"
        },
        "id": "xbRc7gemVwrw",
        "outputId": "88f1ccfc-9e5d-464e-ec07-6917dac2a16e"
      },
      "outputs": [
        {
          "name": "stdout",
          "output_type": "stream",
          "text": [
            "15\n"
          ]
        }
      ],
      "source": [
        "import pandas as pd\n",
        "s1 = pd.Series([5,10,15,20,25],index=['a','b','c','d','e'])\n",
        "print(s1['c'])"
      ]
    },
    {
      "cell_type": "code",
      "execution_count": null,
      "metadata": {
        "colab": {
          "base_uri": "https://localhost:8080/"
        },
        "id": "R-Li1dzrV2SS",
        "outputId": "83772cfa-3eca-4284-a2fb-c3cd2d04f18f"
      },
      "outputs": [
        {
          "name": "stdout",
          "output_type": "stream",
          "text": [
            "25\n"
          ]
        }
      ],
      "source": [
        "import pandas as pd\n",
        "s1 = pd.Series([5,10,15,20,25],index=['a','b','c','d','e'])\n",
        "print(s1.max())"
      ]
    },
    {
      "cell_type": "code",
      "execution_count": null,
      "metadata": {
        "colab": {
          "base_uri": "https://localhost:8080/"
        },
        "id": "WPi1UZZ6V-jJ",
        "outputId": "2bc9332a-3f6d-4b06-9f34-02ec93160645"
      },
      "outputs": [
        {
          "name": "stdout",
          "output_type": "stream",
          "text": [
            "a    10\n",
            "b    15\n",
            "c    20\n",
            "d    25\n",
            "e    30\n",
            "dtype: int64\n"
          ]
        }
      ],
      "source": [
        "import pandas as pd\n",
        "series = pd.Series([5,10,15,20,25],index=['a','b','c','d','e'])\n",
        "new_series = series +5\n",
        "print(new_series)"
      ]
    },
    {
      "cell_type": "code",
      "execution_count": null,
      "metadata": {
        "colab": {
          "base_uri": "https://localhost:8080/"
        },
        "id": "X_fJWJf_Wsuw",
        "outputId": "2945b377-a502-4f38-faa4-ae9941c82235"
      },
      "outputs": [
        {
          "name": "stdout",
          "output_type": "stream",
          "text": [
            "apple     10\n",
            "banana    30\n",
            "cherry    20\n",
            "dtype: int64\n"
          ]
        }
      ],
      "source": [
        "import pandas as pd\n",
        "fruit_dict={'apple':10,'banana':30,'cherry':20}\n",
        "series=pd.Series(fruit_dict)\n",
        "print(series)"
      ]
    },
    {
      "cell_type": "code",
      "execution_count": null,
      "metadata": {
        "colab": {
          "base_uri": "https://localhost:8080/"
        },
        "id": "SjYZK0k1XTZ3",
        "outputId": "b7cbdb64-872e-4101-c1f1-7d34f77b9b34"
      },
      "outputs": [
        {
          "name": "stdout",
          "output_type": "stream",
          "text": [
            "banana    30\n",
            "dtype: int64\n"
          ]
        }
      ],
      "source": [
        "import pandas as pd\n",
        "fruit_dict={'apple':10,'banana':30,'cherry':20}\n",
        "series=pd.Series(fruit_dict)\n",
        "filtered_series = series[series > 25]\n",
        "print(filtered_series)"
      ]
    },
    {
      "cell_type": "code",
      "execution_count": null,
      "metadata": {
        "colab": {
          "base_uri": "https://localhost:8080/"
        },
        "id": "gJzdinChYjPc",
        "outputId": "27fbc7df-c7f8-408d-886d-aa2f9399464f"
      },
      "outputs": [
        {
          "name": "stdout",
          "output_type": "stream",
          "text": [
            "apple     11.2\n",
            "banana    31.2\n",
            "cherry    21.2\n",
            "dtype: float64\n"
          ]
        }
      ],
      "source": [
        "import pandas as pd\n",
        "fruit_dict={'apple':10,'banana':30,'cherry':20}\n",
        "series=pd.Series(fruit_dict)\n",
        "new_prices=series +1.2\n",
        "print(new_prices)"
      ]
    },
    {
      "cell_type": "code",
      "execution_count": null,
      "metadata": {
        "colab": {
          "base_uri": "https://localhost:8080/"
        },
        "id": "w-fmbf7AZCO3",
        "outputId": "3afd2a76-c241-421f-e4bb-cd57fb5ee8e0"
      },
      "outputs": [
        {
          "name": "stdout",
          "output_type": "stream",
          "text": [
            "mean:3.0\n",
            "standard deviation:1.5811388300841898\n"
          ]
        }
      ],
      "source": [
        "import pandas as pd\n",
        "numbers=pd.Series([1,2,3,4,5])\n",
        "mean=numbers.mean()\n",
        "std_dev=numbers.std()\n",
        "print(f\"mean:{mean}\")\n",
        "print(f\"standard deviation:{std_dev}\")"
      ]
    },
    {
      "cell_type": "code",
      "execution_count": null,
      "metadata": {
        "colab": {
          "base_uri": "https://localhost:8080/"
        },
        "id": "eG8kUQHHZ8IR",
        "outputId": "81dbc532-7edd-4f6a-c541-8c8e2fe46a4b"
      },
      "outputs": [
        {
          "name": "stdout",
          "output_type": "stream",
          "text": [
            "Alice      150\n",
            "Bob        155\n",
            "Charlie    170\n",
            "David      175\n",
            "dtype: int64\n"
          ]
        }
      ],
      "source": [
        "import pandas as pd\n",
        "subject1=pd.Series({'Alice':80,'Bob':70,'Charlie':90,'David':85})\n",
        "subject2=pd.Series({'Alice':70,'Bob':85,'Charlie':80,'David':90})\n",
        "total_marks=subject1.add(subject2)\n",
        "print(total_marks)"
      ]
    },
    {
      "cell_type": "code",
      "execution_count": null,
      "metadata": {
        "colab": {
          "base_uri": "https://localhost:8080/"
        },
        "id": "6eyuH2QXbR--",
        "outputId": "84326316-14de-4492-f7cb-1c626bf02cdb"
      },
      "outputs": [
        {
          "name": "stdout",
          "output_type": "stream",
          "text": [
            "0    1\n",
            "1    1\n",
            "2    1\n",
            "dtype: int32\n"
          ]
        }
      ],
      "source": [
        "import pandas as pd\n",
        "timestamps=pd.Series(['2022-01-01','2023-01-02','2023-01-03'])\n",
        "timestamps=pd.to_datetime(timestamps)\n",
        "months=timestamps.dt.month\n",
        "print(months)"
      ]
    },
    {
      "cell_type": "code",
      "source": [
        "import pandas as pd\n",
        "data={\n",
        "    'Name':['Rupa','Sita','Geeta'],\n",
        "    'Age':[25,30,35],\n",
        "    'City':['Bagalkot','Solapur','Gulbarga']\n",
        "}\n",
        "df=pd.DataFrame(data)\n",
        "print(data)"
      ],
      "metadata": {
        "colab": {
          "base_uri": "https://localhost:8080/"
        },
        "id": "I1M9FgzsDydy",
        "outputId": "e91f00e0-d00c-4e50-e48e-d616b1124924"
      },
      "execution_count": null,
      "outputs": [
        {
          "output_type": "stream",
          "name": "stdout",
          "text": [
            "{'Name': ['Rupa', 'Sita', 'Geeta'], 'Age': [25, 30, 35], 'City': ['Bagalkot', 'Solapur', 'Gulbarga']}\n"
          ]
        }
      ]
    },
    {
      "cell_type": "code",
      "source": [
        "import pandas as pd\n",
        "data={\n",
        "    'Name':['Rupa','Sita','Geeta'],\n",
        "    'Age':[25,30,35],\n",
        "    'City':['Bagalkot','Solapur','Gulbarga']\n",
        "}\n",
        "df_sorted=df.sort_values(by='Age',ascending=False)\n",
        "print(df_sorted)"
      ],
      "metadata": {
        "colab": {
          "base_uri": "https://localhost:8080/"
        },
        "id": "wsJeUgDjFcXR",
        "outputId": "3ce679dc-701f-4b4c-bc01-b863f2ccb483"
      },
      "execution_count": null,
      "outputs": [
        {
          "output_type": "stream",
          "name": "stdout",
          "text": [
            "    Name  Age      City\n",
            "2  Geeta   35  Gulbarga\n",
            "1   Sita   30   Solapur\n",
            "0   Rupa   25  Bagalkot\n"
          ]
        }
      ]
    },
    {
      "cell_type": "code",
      "source": [
        "import pandas as pd\n",
        "data={\n",
        "    'Name':['Rupa','Sita','Geeta'],\n",
        "    'Age':[25,30,35],\n",
        "    'City':['Bagalkot','Solapur','Gulbarga']\n",
        "}\n",
        "df = pd.DataFrame(data)\n",
        "df_sorted=df.sort_values(by='Age',ascending=False)\n",
        "df_sorted['salary'] = [50000, 60000, 70000]\n",
        "print(df_sorted['salary'])"
      ],
      "metadata": {
        "colab": {
          "base_uri": "https://localhost:8080/"
        },
        "id": "mWQD5BUnF8ZD",
        "outputId": "29d94635-e91c-4c5b-e54f-59cf2d91f3d2"
      },
      "execution_count": null,
      "outputs": [
        {
          "output_type": "stream",
          "name": "stdout",
          "text": [
            "2    50000\n",
            "1    60000\n",
            "0    70000\n",
            "Name: salary, dtype: int64\n"
          ]
        }
      ]
    },
    {
      "cell_type": "code",
      "source": [
        "import pandas as pd\n",
        "data={\n",
        "    'Name':['Rupa','Sita','Geeta'],\n",
        "    'Age':[25,30,35],\n",
        "    'City':['Bagalkot','Solapur','Gulbarga']\n",
        "}\n",
        "df = pd.DataFrame(data)\n",
        "df_sorted=df.sort_values(by='Age',ascending=False)\n",
        "age_above_30=df_sorted[df_sorted['Age'] > 30]\n",
        "print(age_above_30)"
      ],
      "metadata": {
        "colab": {
          "base_uri": "https://localhost:8080/"
        },
        "id": "3eVj8KGNZivH",
        "outputId": "8119e3d7-c6be-4cbd-f417-ba5430837355"
      },
      "execution_count": null,
      "outputs": [
        {
          "output_type": "stream",
          "name": "stdout",
          "text": [
            "    Name  Age      City\n",
            "2  Geeta   35  Gulbarga\n"
          ]
        }
      ]
    },
    {
      "cell_type": "code",
      "source": [
        "import pandas as pd\n",
        "data={\n",
        "    'Name':['Rupa','Sita','Geeta'],\n",
        "    'Age':[25,30,35],\n",
        "    'City':['Bagalkot','Solapur','Gulbarga']\n",
        "}\n",
        "df = pd.DataFrame(data)\n",
        "df_sorted.loc[df_sorted['Name'] == 'Sita', 'City'] : 'Bagalkot'\n",
        "print(\"In DataFrame without City:\\n\",df_sorted)"
      ],
      "metadata": {
        "colab": {
          "base_uri": "https://localhost:8080/"
        },
        "id": "md2te2Z9al5b",
        "outputId": "e0b79a14-d3da-4c20-acf2-63713e3d1c9f"
      },
      "execution_count": null,
      "outputs": [
        {
          "output_type": "stream",
          "name": "stdout",
          "text": [
            "In DataFrame without City:\n",
            "     Name  Age      City\n",
            "2  Geeta   35  Gulbarga\n",
            "1   Sita   30   Solapur\n",
            "0   Rupa   25  Bagalkot\n"
          ]
        }
      ]
    },
    {
      "cell_type": "code",
      "source": [
        "import pandas as pd\n",
        "data={\n",
        "    'Name':['Rupa','Sita','Geeta'],\n",
        "    'Age':[25,30,35],\n",
        "    'City':['Bagalkot','Solapur','Gulbarga']\n",
        "}\n",
        "df = pd.DataFrame(data)\n",
        "df_no_city=df.drop(columns=['City'])\n",
        "print(\"\\n DataFrame without city:\", df_no_city)"
      ],
      "metadata": {
        "colab": {
          "base_uri": "https://localhost:8080/"
        },
        "id": "Mxd0eOFuc1XW",
        "outputId": "fb86f2a3-a5b8-44f2-e733-53ada10c6e40"
      },
      "execution_count": null,
      "outputs": [
        {
          "output_type": "stream",
          "name": "stdout",
          "text": [
            "\n",
            " DataFrame without city:     Name  Age\n",
            "0   Rupa   25\n",
            "1   Sita   30\n",
            "2  Geeta   35\n"
          ]
        }
      ]
    },
    {
      "cell_type": "code",
      "source": [
        "import pandas as pd\n",
        "data={\n",
        "    'Name':['Rupa','Sita','Geeta'],\n",
        "    'Age':[25,30,35],\n",
        "    'City':['Bagalkot','Solapur','Gulbarga']\n",
        "}\n",
        "df = pd.DataFrame(data)\n",
        "average_age=df['Age'].mean()\n",
        "print(\"\\n Average Age:\",average_age)"
      ],
      "metadata": {
        "colab": {
          "base_uri": "https://localhost:8080/"
        },
        "id": "45dhPX1Ies_q",
        "outputId": "c6d7dee8-2602-437e-b047-871c162152c2"
      },
      "execution_count": null,
      "outputs": [
        {
          "output_type": "stream",
          "name": "stdout",
          "text": [
            "\n",
            " Average Age: 30.0\n"
          ]
        }
      ]
    },
    {
      "cell_type": "code",
      "source": [
        "import pandas as pd\n",
        "data={\n",
        "    'Name':['Rupa','Sita','Geeta'],\n",
        "    'Age':[25,30,35],\n",
        "    'City':['Bagalkot','Solapur','Gulbarga']\n",
        "}\n",
        "df = pd.DataFrame(data)\n",
        "any_from_Bagalkot='Bagalkot' in df_sorted['City'].values\n",
        "print(\"\\n Any from Bagalkot:\",any_from_Bagalkot)"
      ],
      "metadata": {
        "colab": {
          "base_uri": "https://localhost:8080/"
        },
        "id": "XuykxSrjgMzr",
        "outputId": "10772b3b-6721-483e-c65e-8cb154c996f0"
      },
      "execution_count": null,
      "outputs": [
        {
          "output_type": "stream",
          "name": "stdout",
          "text": [
            "\n",
            " Any from Bagalkot: True\n"
          ]
        }
      ]
    },
    {
      "cell_type": "code",
      "source": [
        "import pandas as pd\n",
        "data={\n",
        "    'Name':['Rupa','Sita','Geeta'],\n",
        "    'Age':[25,30,35],\n",
        "    'City':['Bagalkot','Solapur','Gulbarga']\n",
        "}\n",
        "df = pd.DataFrame(data)\n",
        "sita_info=df_sorted[df_sorted['Name']=='Sita']\n",
        "print(\"\\n Information about Sita:\\n\",sita_info)"
      ],
      "metadata": {
        "colab": {
          "base_uri": "https://localhost:8080/"
        },
        "id": "7m9PbkuUg6_0",
        "outputId": "163f8972-e0f0-4894-bb6a-029df993b4a7"
      },
      "execution_count": null,
      "outputs": [
        {
          "output_type": "stream",
          "name": "stdout",
          "text": [
            "\n",
            " Information about Sita:\n",
            "    Name  Age     City\n",
            "1  Sita   30  Solapur\n"
          ]
        }
      ]
    },
    {
      "cell_type": "code",
      "source": [
        "import pandas as pd\n",
        "data={\n",
        "    'Name':['Rupa','Sita','Geeta'],\n",
        "    'Age':[25,30,35],\n",
        "    'City':['Bagalkot','Solapur','Gulbarga']\n",
        "}\n",
        "df = pd.DataFrame(data)\n",
        "people_per_City=df_sorted['City'].value_counts()\n",
        "print(\"\\n Number of people per city:\\n\",people_per_City)\n",
        "\n"
      ],
      "metadata": {
        "colab": {
          "base_uri": "https://localhost:8080/"
        },
        "id": "93xlLxGChtCE",
        "outputId": "c378244e-2006-4c50-f1f7-5425e34aec40"
      },
      "execution_count": null,
      "outputs": [
        {
          "output_type": "stream",
          "name": "stdout",
          "text": [
            "\n",
            " Number of people per city:\n",
            " City\n",
            "Gulbarga    1\n",
            "Solapur     1\n",
            "Bagalkot    1\n",
            "Name: count, dtype: int64\n"
          ]
        }
      ]
    },
    {
      "cell_type": "code",
      "source": [
        "import pandas as pd\n",
        "data={\n",
        "    'Name':['Rupa','Sita','Geeta'],\n",
        "    'Age':[25,30,35],\n",
        "    'City':['Bagalkot','Solapur','Gulbarga']\n",
        "}\n",
        "df = pd.DataFrame(data)\n",
        "df_sorted=df.sort_values(by='Age',ascending=False)\n",
        "max_age_person=df_sorted.loc[df_sorted['Age'].idxmax()]\n",
        "print(\"\\n Person with maximum Age:\\n\",max_age_person)"
      ],
      "metadata": {
        "colab": {
          "base_uri": "https://localhost:8080/"
        },
        "id": "3Fe0Mw1Nk3SY",
        "outputId": "e18ad8e0-cb4f-4b70-b777-1de7496dc000"
      },
      "execution_count": null,
      "outputs": [
        {
          "output_type": "stream",
          "name": "stdout",
          "text": [
            "\n",
            " Person with maximum Age:\n",
            " Name       Geeta\n",
            "Age           35\n",
            "City    Gulbarga\n",
            "Name: 2, dtype: object\n"
          ]
        }
      ]
    },
    {
      "cell_type": "code",
      "source": [
        "import numpy as np\n",
        "arr=np.array([1,2,3,4,])\n",
        "print(arr.sum())"
      ],
      "metadata": {
        "colab": {
          "base_uri": "https://localhost:8080/"
        },
        "id": "oazTAtpAeRC5",
        "outputId": "c5a144a7-255c-4d0a-ecb5-129836054a74"
      },
      "execution_count": null,
      "outputs": [
        {
          "output_type": "stream",
          "name": "stdout",
          "text": [
            "10\n"
          ]
        }
      ]
    },
    {
      "cell_type": "code",
      "source": [
        "import numpy as np\n",
        "arr=np.array([1,2,3,4,])\n",
        "print(arr.mean())"
      ],
      "metadata": {
        "colab": {
          "base_uri": "https://localhost:8080/"
        },
        "id": "Bl5of9OZevla",
        "outputId": "7f9bf475-23d1-4ae8-9ca0-833ee59c6efe"
      },
      "execution_count": null,
      "outputs": [
        {
          "output_type": "stream",
          "name": "stdout",
          "text": [
            "2.5\n"
          ]
        }
      ]
    },
    {
      "cell_type": "code",
      "source": [
        "import numpy as np\n",
        "arr=np.array([1,2,3,4,])\n",
        "print(arr.min())"
      ],
      "metadata": {
        "colab": {
          "base_uri": "https://localhost:8080/"
        },
        "id": "uayQHyple6H3",
        "outputId": "f40f8aa0-3304-4b7a-86e1-8e357fc2c55d"
      },
      "execution_count": null,
      "outputs": [
        {
          "output_type": "stream",
          "name": "stdout",
          "text": [
            "1\n"
          ]
        }
      ]
    },
    {
      "cell_type": "code",
      "source": [
        "import numpy as np\n",
        "arr=np.array([1,2,3,4,])\n",
        "print(arr.max())"
      ],
      "metadata": {
        "colab": {
          "base_uri": "https://localhost:8080/"
        },
        "id": "6YK_aPJ3e-zA",
        "outputId": "ad96f772-14c2-4a42-8878-e37d8e8a06fe"
      },
      "execution_count": null,
      "outputs": [
        {
          "output_type": "stream",
          "name": "stdout",
          "text": [
            "4\n"
          ]
        }
      ]
    },
    {
      "cell_type": "code",
      "source": [
        "import numpy as np\n",
        "import random\n",
        "array=np.random.randint(16,size=(4,4))\n",
        "print(\"input array:\\n\",array)\n",
        "print(\"largest number in x axis:\",np.max(array,axis=1))\n",
        "print(\"largest number in y axis:\",np.max(array,axis=0))"
      ],
      "metadata": {
        "colab": {
          "base_uri": "https://localhost:8080/"
        },
        "id": "vmnTAIwTfC9Q",
        "outputId": "08d37a20-07a8-4fd6-be3d-e80c2860d841"
      },
      "execution_count": null,
      "outputs": [
        {
          "output_type": "stream",
          "name": "stdout",
          "text": [
            "input array:\n",
            " [[11 12  4 10]\n",
            " [ 5 10  1  8]\n",
            " [ 5  6 14  5]\n",
            " [ 5  9  2  8]]\n",
            "largest number in x axis: [12 10 14  9]\n",
            "largest number in y axis: [11 12 14 10]\n"
          ]
        }
      ]
    },
    {
      "cell_type": "code",
      "source": [
        "import numpy as np\n",
        "import random\n",
        "array=np.random.randint(16,size=(4,4))\n",
        "print(\"input array:\\n\",array)\n",
        "print(\"smallest number in x axis:\",np.min(array,axis=1))\n",
        "print(\"smallest number in y axis:\",np.min(array,axis=0))"
      ],
      "metadata": {
        "colab": {
          "base_uri": "https://localhost:8080/"
        },
        "id": "Gf2cGTRAiswQ",
        "outputId": "348a8495-c380-47db-c69d-6dded379591b"
      },
      "execution_count": null,
      "outputs": [
        {
          "output_type": "stream",
          "name": "stdout",
          "text": [
            "input array:\n",
            " [[ 9  0 12  2]\n",
            " [ 8 14  4  8]\n",
            " [ 7  6  4 15]\n",
            " [15  0  6  0]]\n",
            "smallest number in x axis: [0 4 4 0]\n",
            "smallest number in y axis: [7 0 4 0]\n"
          ]
        }
      ]
    },
    {
      "cell_type": "code",
      "source": [
        "import numpy as np\n",
        "arr=np.array([1,2,3,4,])\n",
        "print(arr.std())"
      ],
      "metadata": {
        "colab": {
          "base_uri": "https://localhost:8080/"
        },
        "id": "HByxYKjHochl",
        "outputId": "f9249aa1-be23-48f8-828a-84d83d3e4c23"
      },
      "execution_count": null,
      "outputs": [
        {
          "output_type": "stream",
          "name": "stdout",
          "text": [
            "1.118033988749895\n"
          ]
        }
      ]
    },
    {
      "cell_type": "code",
      "source": [
        "import numpy as np\n",
        "arr=np.array([1,2,3])\n",
        "print(arr+2)"
      ],
      "metadata": {
        "colab": {
          "base_uri": "https://localhost:8080/"
        },
        "id": "Na_ooeGqjJ-w",
        "outputId": "a4aab2bb-cd3f-46eb-f3d9-1ff0660896c1"
      },
      "execution_count": null,
      "outputs": [
        {
          "output_type": "stream",
          "name": "stdout",
          "text": [
            "[3 4 5]\n"
          ]
        }
      ]
    },
    {
      "cell_type": "code",
      "source": [
        "import numpy as np\n",
        "arr=np.array([1,2,3])\n",
        "print(np.sin(arr))"
      ],
      "metadata": {
        "colab": {
          "base_uri": "https://localhost:8080/"
        },
        "id": "18qaKLeHjhsn",
        "outputId": "0ca21313-966a-49ad-ca15-6af97e81f00a"
      },
      "execution_count": null,
      "outputs": [
        {
          "output_type": "stream",
          "name": "stdout",
          "text": [
            "[0.84147098 0.90929743 0.14112001]\n"
          ]
        }
      ]
    },
    {
      "cell_type": "code",
      "source": [
        "import numpy as np\n",
        "arr=np.array([1,2,3])\n",
        "arr2=np.array([4,5,6])\n",
        "print(arr+arr2)"
      ],
      "metadata": {
        "colab": {
          "base_uri": "https://localhost:8080/"
        },
        "id": "sT9JzFAvj5q1",
        "outputId": "0c26cb08-1bf6-4a36-cf31-cd62ca5f29d4"
      },
      "execution_count": null,
      "outputs": [
        {
          "output_type": "stream",
          "name": "stdout",
          "text": [
            "[5 7 9]\n"
          ]
        }
      ]
    },
    {
      "cell_type": "code",
      "source": [
        "def square(number):\n",
        "    return number * number\n",
        "\n",
        "nums = [1, 2, 3, 4]\n",
        "squared_numbers = list(map(square, nums))\n",
        "print(squared_numbers)\n"
      ],
      "metadata": {
        "colab": {
          "base_uri": "https://localhost:8080/"
        },
        "id": "ar7wrfuvkw0m",
        "outputId": "8f63da6f-f023-4ae6-9d5e-4b4ab4fce675"
      },
      "execution_count": null,
      "outputs": [
        {
          "output_type": "stream",
          "name": "stdout",
          "text": [
            "[1, 4, 9, 16]\n"
          ]
        }
      ]
    },
    {
      "cell_type": "code",
      "source": [
        "def square(number):\n",
        "    return number * number\n",
        "\n",
        "nums = [1, 2, 3, 4]\n",
        "nums1 = [1, 2, 3, 4, 5, 6]\n",
        "square_of_nums1 = list(map(lambda n: n**2, nums1))\n",
        "print(square_of_nums1)"
      ],
      "metadata": {
        "colab": {
          "base_uri": "https://localhost:8080/"
        },
        "id": "9e8TDQcpl0Yw",
        "outputId": "79823d92-8567-4e50-9110-78acc6675469"
      },
      "execution_count": null,
      "outputs": [
        {
          "output_type": "stream",
          "name": "stdout",
          "text": [
            "[1, 4, 9, 16, 25, 36]\n"
          ]
        }
      ]
    },
    {
      "cell_type": "code",
      "source": [
        "def is_even(n):\n",
        "  if n%2==0:\n",
        "    return True\n",
        "  else:\n",
        "    return False\n",
        "\n",
        "nums=[1,2,3,4]\n",
        "evens=list(filter(is_even,nums))\n",
        "print(evens)"
      ],
      "metadata": {
        "colab": {
          "base_uri": "https://localhost:8080/"
        },
        "id": "sdPfdOE9nLT0",
        "outputId": "bbe0845a-ccef-421f-c788-4c97325d0781"
      },
      "execution_count": null,
      "outputs": [
        {
          "output_type": "stream",
          "name": "stdout",
          "text": [
            "[2, 4]\n"
          ]
        }
      ]
    },
    {
      "cell_type": "code",
      "source": [
        "def is_even(n):\n",
        "  if n%2==0:\n",
        "    return True\n",
        "  else:\n",
        "    return False\n",
        "\n",
        "nums=[1,2,3,4]\n",
        "even=list(filter(lambda x:x%2==0,arr))\n",
        "print(\"even numbers:\",even)"
      ],
      "metadata": {
        "colab": {
          "base_uri": "https://localhost:8080/"
        },
        "id": "GjWIPucQosfE",
        "outputId": "a57da418-45fd-401e-9559-8d60c4b1e4d2"
      },
      "execution_count": null,
      "outputs": [
        {
          "output_type": "stream",
          "name": "stdout",
          "text": [
            "even numbers: [np.int64(2), np.int64(4)]\n"
          ]
        }
      ]
    },
    {
      "cell_type": "code",
      "source": [
        "from functools import reduce\n",
        "\n",
        "def sum_all(a,b):\n",
        "  return a+b\n",
        "nums=[1,2,3,4]\n",
        "sum=reduce(sum_all,nums)\n",
        "print(sum)"
      ],
      "metadata": {
        "colab": {
          "base_uri": "https://localhost:8080/"
        },
        "id": "qaqm8y0cqGxL",
        "outputId": "6130119a-02b7-4f06-cff1-36d0bd9c446c"
      },
      "execution_count": null,
      "outputs": [
        {
          "output_type": "stream",
          "name": "stdout",
          "text": [
            "10\n"
          ]
        }
      ]
    },
    {
      "cell_type": "code",
      "source": [
        "from functools import reduce\n",
        "\n",
        "def sum_all(a,b):\n",
        "  return a+b\n",
        "nums=[1,2,3,4]\n",
        "total=reduce(lambda x,y:x+y,arr)\n",
        "print(\"sum using reduce:\",total)"
      ],
      "metadata": {
        "colab": {
          "base_uri": "https://localhost:8080/"
        },
        "id": "3_pTPt-5rGwU",
        "outputId": "8324d9bb-3988-4c8f-9fee-12228a022117"
      },
      "execution_count": null,
      "outputs": [
        {
          "output_type": "stream",
          "name": "stdout",
          "text": [
            "sum using reduce: 10\n"
          ]
        }
      ]
    },
    {
      "cell_type": "code",
      "source": [
        "nums=[1,2,3,4]\n",
        "evens=list(filter(lambda x:x%2==0,nums))\n",
        "print(evens)"
      ],
      "metadata": {
        "colab": {
          "base_uri": "https://localhost:8080/"
        },
        "id": "3dcgbU27rnME",
        "outputId": "e1506947-fa2b-4a93-ca9d-19f1f7c3dccd"
      },
      "execution_count": null,
      "outputs": [
        {
          "output_type": "stream",
          "name": "stdout",
          "text": [
            "[2, 4]\n"
          ]
        }
      ]
    },
    {
      "cell_type": "code",
      "source": [
        "import pandas as pd\n",
        "data=pd.Series([10,20,30,40],index=['a','b','c','d'])\n",
        "print(data)"
      ],
      "metadata": {
        "colab": {
          "base_uri": "https://localhost:8080/"
        },
        "id": "fJXl7CgQsc8b",
        "outputId": "e81fd9b8-4d7e-4080-ec22-959f802cddc0"
      },
      "execution_count": null,
      "outputs": [
        {
          "output_type": "stream",
          "name": "stdout",
          "text": [
            "a    10\n",
            "b    20\n",
            "c    30\n",
            "d    40\n",
            "dtype: int64\n"
          ]
        }
      ]
    },
    {
      "cell_type": "code",
      "source": [
        "import pandas as pd\n",
        "data={\n",
        "    'name':['Alice','Bob','Charlie'],\n",
        "    'age':[25,30,35],\n",
        "    'city':['Delhi','Mumbai','Banglore']\n",
        "}\n",
        "df=pd.DataFrame(data)\n",
        "print(df)\n"
      ],
      "metadata": {
        "colab": {
          "base_uri": "https://localhost:8080/"
        },
        "id": "QOcw45N2tBfq",
        "outputId": "45ae8669-5c5a-454b-fe62-402afb464dda"
      },
      "execution_count": null,
      "outputs": [
        {
          "output_type": "stream",
          "name": "stdout",
          "text": [
            "      name  age      city\n",
            "0    Alice   25     Delhi\n",
            "1      Bob   30    Mumbai\n",
            "2  Charlie   35  Banglore\n"
          ]
        }
      ]
    },
    {
      "cell_type": "code",
      "source": [
        "df=pd.read_csv('ATTENDENCE.csv')\n",
        "df.head()\n",
        "df.info()\n"
      ],
      "metadata": {
        "colab": {
          "base_uri": "https://localhost:8080/"
        },
        "id": "DL3b7JXxtxHC",
        "outputId": "6e40ee63-dfaa-438b-b736-4c97fcb917bf"
      },
      "execution_count": null,
      "outputs": [
        {
          "output_type": "stream",
          "name": "stdout",
          "text": [
            "<class 'pandas.core.frame.DataFrame'>\n",
            "RangeIndex: 4 entries, 0 to 3\n",
            "Data columns (total 5 columns):\n",
            " #   Column   Non-Null Count  Dtype \n",
            "---  ------   --------------  ----- \n",
            " 0   SL.NO    4 non-null      int64 \n",
            " 1   NAME     4 non-null      object\n",
            " 2   REG.NO   4 non-null      object\n",
            " 3   ENGLISH  4 non-null      int64 \n",
            " 4   EM       4 non-null      int64 \n",
            "dtypes: int64(3), object(2)\n",
            "memory usage: 292.0+ bytes\n"
          ]
        }
      ]
    },
    {
      "cell_type": "code",
      "source": [
        "import pandas as pd\n",
        "data={\n",
        "    'name':['Alice','Bob','Charlie'],\n",
        "    'age':[25,30,35],\n",
        "    'city':['Delhi','Mumbai','Banglore']\n",
        "}\n",
        "df=pd.DataFrame(data)\n",
        "print(df['name'])"
      ],
      "metadata": {
        "colab": {
          "base_uri": "https://localhost:8080/"
        },
        "id": "gkCIRGB-uyo5",
        "outputId": "f6dbb33c-dda2-46c2-ccd4-74de707c593e"
      },
      "execution_count": null,
      "outputs": [
        {
          "output_type": "stream",
          "name": "stdout",
          "text": [
            "0      Alice\n",
            "1        Bob\n",
            "2    Charlie\n",
            "Name: name, dtype: object\n"
          ]
        }
      ]
    },
    {
      "cell_type": "code",
      "source": [
        "import pandas as pd\n",
        "data={\n",
        "    'name':['Alice','Bob','Charlie'],\n",
        "    'age':[25,30,35],\n",
        "    'city':['Delhi','Mumbai','Banglore']\n",
        "}\n",
        "df=pd.DataFrame(data)\n",
        "print(df.loc[0])\n"
      ],
      "metadata": {
        "colab": {
          "base_uri": "https://localhost:8080/"
        },
        "id": "8WGvJ7dyvuLI",
        "outputId": "2d02977d-1c80-4184-ff85-6ebf5b840f41"
      },
      "execution_count": null,
      "outputs": [
        {
          "output_type": "stream",
          "name": "stdout",
          "text": [
            "name    Alice\n",
            "age        25\n",
            "city    Delhi\n",
            "Name: 0, dtype: object\n"
          ]
        }
      ]
    },
    {
      "cell_type": "code",
      "source": [
        "import pandas as pd\n",
        "data={\n",
        "    'name':['Alice','Bob','Charlie'],\n",
        "    'age':[25,30,35],\n",
        "    'city':['Delhi','Mumbai','Banglore']\n",
        "}\n",
        "df=pd.DataFrame(data)\n",
        "print(df.iloc[1])\n"
      ],
      "metadata": {
        "colab": {
          "base_uri": "https://localhost:8080/"
        },
        "id": "tC-gcRgPv1RR",
        "outputId": "6357b841-0928-4975-e1fe-29b481675d12"
      },
      "execution_count": null,
      "outputs": [
        {
          "output_type": "stream",
          "name": "stdout",
          "text": [
            "name       Bob\n",
            "age         30\n",
            "city    Mumbai\n",
            "Name: 1, dtype: object\n"
          ]
        }
      ]
    },
    {
      "cell_type": "code",
      "source": [
        "import pandas as pd\n",
        "data={\n",
        "    'name':['Alice','Bob','Charlie'],\n",
        "    'age':[25,30,35],\n",
        "    'city':['Delhi','Mumbai','Banglore']\n",
        "}\n",
        "filtered=df[df['age']>25]\n",
        "print(filtered)\n"
      ],
      "metadata": {
        "colab": {
          "base_uri": "https://localhost:8080/"
        },
        "id": "RADV0I6jv9tW",
        "outputId": "c7c7309a-2300-476b-82e3-4a75b4f59e28"
      },
      "execution_count": null,
      "outputs": [
        {
          "output_type": "stream",
          "name": "stdout",
          "text": [
            "      name  age      city\n",
            "1      Bob   30    Mumbai\n",
            "2  Charlie   35  Banglore\n"
          ]
        }
      ]
    },
    {
      "cell_type": "code",
      "source": [
        "import pandas as pd\n",
        "data={\n",
        "    'name':['Alice','Bob','Charlie'],\n",
        "    'age':[25,30,35],\n",
        "    'city':['Delhi','Mumbai','Banglore']\n",
        "}\n",
        "df=pd.DataFrame(data)\n",
        "df['salary']=[50000,60000,70000]\n",
        "print(df)\n"
      ],
      "metadata": {
        "colab": {
          "base_uri": "https://localhost:8080/"
        },
        "id": "JHDKXFh2xdna",
        "outputId": "8523258a-13dd-4957-e02a-eb438bb50f47"
      },
      "execution_count": null,
      "outputs": [
        {
          "output_type": "stream",
          "name": "stdout",
          "text": [
            "      name  age      city  salary\n",
            "0    Alice   25     Delhi   50000\n",
            "1      Bob   30    Mumbai   60000\n",
            "2  Charlie   35  Banglore   70000\n"
          ]
        }
      ]
    },
    {
      "cell_type": "code",
      "source": [
        "import pandas as pd\n",
        "data={\n",
        "    'name':['Alice','Bob','Charlie'],\n",
        "    'age':[25,30,35],\n",
        "    'city':['Delhi','Mumbai','Banglore']\n",
        "}\n",
        "df=pd.DataFrame(data)\n",
        "df['age']=df['age']+2\n",
        "print(df)\n"
      ],
      "metadata": {
        "colab": {
          "base_uri": "https://localhost:8080/"
        },
        "id": "jbBCpWkix11H",
        "outputId": "09a5bbab-246c-41b5-e355-db30a0bba37c"
      },
      "execution_count": null,
      "outputs": [
        {
          "output_type": "stream",
          "name": "stdout",
          "text": [
            "      name  age      city\n",
            "0    Alice   27     Delhi\n",
            "1      Bob   32    Mumbai\n",
            "2  Charlie   37  Banglore\n"
          ]
        }
      ]
    },
    {
      "cell_type": "code",
      "source": [
        "import pandas as pd\n",
        "df=pd.DataFrame(data)\n",
        "lst=['apple','mango','banana','pineapple','watermelon']\n",
        "df=pd.DataFrame(lst)\n",
        "print(df)"
      ],
      "metadata": {
        "colab": {
          "base_uri": "https://localhost:8080/"
        },
        "id": "OqRKtbn9yOU2",
        "outputId": "07208093-3438-4665-b6f2-651a5a38577e"
      },
      "execution_count": null,
      "outputs": [
        {
          "output_type": "stream",
          "name": "stdout",
          "text": [
            "            0\n",
            "0       apple\n",
            "1       mango\n",
            "2      banana\n",
            "3   pineapple\n",
            "4  watermelon\n"
          ]
        }
      ]
    },
    {
      "cell_type": "code",
      "source": [
        "import pandas as pd\n",
        "data={\n",
        "    'name':['Tom','Nick','Krish','Jack'],\n",
        "    'age':[20,21,19,18]\n",
        "}\n",
        "\n",
        "df=pd.DataFrame(data)\n",
        "print(df)"
      ],
      "metadata": {
        "id": "cZz7UFBE0jqV",
        "colab": {
          "base_uri": "https://localhost:8080/"
        },
        "outputId": "5b66f3d6-3bd4-4533-f84b-7187a8348c9c"
      },
      "execution_count": null,
      "outputs": [
        {
          "output_type": "stream",
          "name": "stdout",
          "text": [
            "    name  age\n",
            "0    Tom   20\n",
            "1   Nick   21\n",
            "2  Krish   19\n",
            "3   Jack   18\n"
          ]
        }
      ]
    },
    {
      "cell_type": "code",
      "source": [
        "import pandas as pd\n",
        "data={\n",
        "    'Department':['HR','HR','IT','Finance','Finance'],\n",
        "    'Employee':['Alice','Bob','Charlie','David','Eva'],\n",
        "    'Salary':[50000,55000,60000,65000,70000],\n",
        "    'Age':[25,30,35,40,45]\n",
        "}\n",
        "df=pd.DataFrame(data)\n",
        "print(df)"
      ],
      "metadata": {
        "colab": {
          "base_uri": "https://localhost:8080/"
        },
        "id": "Q7Hv3ALox53E",
        "outputId": "350ed56b-54fe-4915-afc9-c24528b573f4"
      },
      "execution_count": null,
      "outputs": [
        {
          "output_type": "stream",
          "name": "stdout",
          "text": [
            "  Department Employee  Salary  Age\n",
            "0         HR    Alice   50000   25\n",
            "1         HR      Bob   55000   30\n",
            "2         IT  Charlie   60000   35\n",
            "3    Finance    David   65000   40\n",
            "4    Finance      Eva   70000   45\n"
          ]
        }
      ]
    },
    {
      "cell_type": "code",
      "source": [
        "import pandas as pd\n",
        "data={\n",
        "    'Department':['HR','HR','IT','Finance','Finance'],\n",
        "    'Employee':['Alice','Bob','Charlie','David','Eva'],\n",
        "    'Salary':[50000,55000,60000,65000,70000],\n",
        "    'Age':[25,30,35,40,45]\n",
        "}\n",
        "df=pd.DataFrame(data)\n",
        "print(df['Salary'].mean())"
      ],
      "metadata": {
        "colab": {
          "base_uri": "https://localhost:8080/"
        },
        "id": "vyFQQMTJ0fBL",
        "outputId": "b0414aaa-36ec-4520-dd63-7c1f53794648"
      },
      "execution_count": null,
      "outputs": [
        {
          "output_type": "stream",
          "name": "stdout",
          "text": [
            "60000.0\n"
          ]
        }
      ]
    },
    {
      "cell_type": "code",
      "source": [
        "import pandas as pd\n",
        "data={\n",
        "    'Department':['HR','HR','IT','Finance','Finance'],\n",
        "    'Employee':['Alice','Bob','Charlie','David','Eva'],\n",
        "    'Salary':[50000,55000,60000,65000,70000],\n",
        "    'Age':[25,30,35,40,45]\n",
        "}\n",
        "df=pd.DataFrame(data)\n",
        "print(df['Salary'].max())"
      ],
      "metadata": {
        "colab": {
          "base_uri": "https://localhost:8080/"
        },
        "id": "wcHfnofs02iT",
        "outputId": "e6532ead-dd21-4bfb-ce2f-13a555367839"
      },
      "execution_count": null,
      "outputs": [
        {
          "output_type": "stream",
          "name": "stdout",
          "text": [
            "70000\n"
          ]
        }
      ]
    },
    {
      "cell_type": "code",
      "source": [
        "import pandas as pd\n",
        "data={\n",
        "    'Department':['HR','HR','IT','Finance','Finance'],\n",
        "    'Employee':['Alice','Bob','Charlie','David','Eva'],\n",
        "    'Salary':[50000,55000,60000,65000,70000],\n",
        "    'Age':[25,30,35,40,45]\n",
        "}\n",
        "df=pd.DataFrame(data)\n",
        "grouped=df.groupby('Department')['Salary']\n",
        "print(grouped.mean())\n"
      ],
      "metadata": {
        "colab": {
          "base_uri": "https://localhost:8080/"
        },
        "id": "4uoLSa1P1A17",
        "outputId": "da13ec8e-1d38-41cb-e895-675e39c1b3f4"
      },
      "execution_count": null,
      "outputs": [
        {
          "output_type": "stream",
          "name": "stdout",
          "text": [
            "Department\n",
            "Finance    67500.0\n",
            "HR         52500.0\n",
            "IT         60000.0\n",
            "Name: Salary, dtype: float64\n"
          ]
        }
      ]
    },
    {
      "cell_type": "code",
      "source": [
        "import pandas as pd\n",
        "data={\n",
        "    'Department':['HR','HR','IT','Finance','Finance'],\n",
        "    'Employee':['Alice','Bob','Charlie','David','Eva'],\n",
        "    'Salary':[50000,55000,60000,65000,70000],\n",
        "    'Age':[25,30,35,40,45]\n",
        "}\n",
        "df=pd.DataFrame(data)\n",
        "grouped=df.groupby('Department')['Salary'].agg(['mean','max','min'])\n",
        "print(grouped)\n"
      ],
      "metadata": {
        "colab": {
          "base_uri": "https://localhost:8080/"
        },
        "id": "NTE-BPWD2HBr",
        "outputId": "89d40c98-c4fa-46fc-c9d1-37b14bd96245"
      },
      "execution_count": null,
      "outputs": [
        {
          "output_type": "stream",
          "name": "stdout",
          "text": [
            "               mean    max    min\n",
            "Department                       \n",
            "Finance     67500.0  70000  65000\n",
            "HR          52500.0  55000  50000\n",
            "IT          60000.0  60000  60000\n"
          ]
        }
      ]
    },
    {
      "cell_type": "code",
      "source": [
        "import pandas as pd\n",
        "data={\n",
        "    'Department':['HR','HR','IT','Finance','Finance'],\n",
        "    'Employee':['Alice','Bob','Charlie','David','Eva'],\n",
        "    'Salary':[50000,55000,60000,65000,70000],\n",
        "    'Age':[25,30,35,40,45]\n",
        "}\n",
        "df=pd.DataFrame(data)\n",
        "df['location']=['Mumbai','Delhi','Bangalore','Chennai','Hyderabad']\n",
        "grouped=df.groupby(['Department','location'])['Salary'].mean()\n",
        "print(grouped)\n"
      ],
      "metadata": {
        "colab": {
          "base_uri": "https://localhost:8080/"
        },
        "id": "F9LXAsybASXZ",
        "outputId": "55a63bc0-1f4a-4068-925d-188ff788ceef"
      },
      "execution_count": null,
      "outputs": [
        {
          "output_type": "stream",
          "name": "stdout",
          "text": [
            "Department  location \n",
            "Finance     Chennai      65000.0\n",
            "            Hyderabad    70000.0\n",
            "HR          Delhi        55000.0\n",
            "            Mumbai       50000.0\n",
            "IT          Bangalore    60000.0\n",
            "Name: Salary, dtype: float64\n"
          ]
        }
      ]
    },
    {
      "cell_type": "code",
      "source": [
        "import pandas as pd\n",
        "data={\n",
        "    'Department':['HR','HR','IT','Finance','Finance'],\n",
        "    'Employee':['Alice','Bob','Charlie','David','Eva'],\n",
        "    'Salary':[50000,55000,60000,65000,70000],\n",
        "    'Age':[25,30,35,40,45]\n",
        "}\n",
        "df=pd.DataFrame(data)\n",
        "result=df.groupby('Department').agg({'Salary':'mean','Age':'max'})\n",
        "print(result)\n"
      ],
      "metadata": {
        "colab": {
          "base_uri": "https://localhost:8080/"
        },
        "id": "kL2bLmQfDVuP",
        "outputId": "02a8d080-d566-46d2-f829-749de267d48f"
      },
      "execution_count": null,
      "outputs": [
        {
          "output_type": "stream",
          "name": "stdout",
          "text": [
            "             Salary  Age\n",
            "Department              \n",
            "Finance     67500.0   45\n",
            "HR          52500.0   30\n",
            "IT          60000.0   35\n"
          ]
        }
      ]
    },
    {
      "cell_type": "code",
      "source": [
        "import pandas as pd\n",
        "d1={\"Name\":[\"Pankaj\",\"Lisa\",\"David\"],\"Id\":[1,2,3],\"Role\":[\"CEO\",\"Editor\",\"Author\"]}\n",
        "df=pd.DataFrame(d1)\n",
        "print(df)\n",
        "df1=pd.melt(df,id_vars=[\"Id\"],value_vars=[\"Name\",\"Role\"])\n",
        "print(df1)"
      ],
      "metadata": {
        "colab": {
          "base_uri": "https://localhost:8080/"
        },
        "id": "c5KxaQsZEGoX",
        "outputId": "0cb5541d-8e35-471b-f915-68acbab426d8"
      },
      "execution_count": null,
      "outputs": [
        {
          "output_type": "stream",
          "name": "stdout",
          "text": [
            "     Name  Id    Role\n",
            "0  Pankaj   1     CEO\n",
            "1    Lisa   2  Editor\n",
            "2   David   3  Author\n",
            "   Id variable   value\n",
            "0   1     Name  Pankaj\n",
            "1   2     Name    Lisa\n",
            "2   3     Name   David\n",
            "3   1     Role     CEO\n",
            "4   2     Role  Editor\n",
            "5   3     Role  Author\n"
          ]
        }
      ]
    },
    {
      "cell_type": "code",
      "source": [
        "import pandas as pd\n",
        "data={\n",
        "    'Date':['2024-01-01','2024-01-01','2024-01-02','2024-01-02'],\n",
        "    'City':['Delhi','Mumbai','Delhi','Mumbai'],\n",
        "    'Temprature':[33,28,34,27]\n",
        "}\n",
        "df=pd.DataFrame(data)\n",
        "print(\"original:\\n\",df)\n",
        "pivoted=df.pivot(index='Date',columns='City',values='Temprature')\n",
        "print(\"\\nPivoted data:\\n\",pivoted)"
      ],
      "metadata": {
        "id": "v1Fj1P7iGfFX",
        "colab": {
          "base_uri": "https://localhost:8080/"
        },
        "outputId": "54645e6e-4e07-46f1-9f07-72c9c677d442"
      },
      "execution_count": null,
      "outputs": [
        {
          "output_type": "stream",
          "name": "stdout",
          "text": [
            "original:\n",
            "          Date    City  Temprature\n",
            "0  2024-01-01   Delhi          33\n",
            "1  2024-01-01  Mumbai          28\n",
            "2  2024-01-02   Delhi          34\n",
            "3  2024-01-02  Mumbai          27\n",
            "\n",
            "Pivoted data:\n",
            " City        Delhi  Mumbai\n",
            "Date                     \n",
            "2024-01-01     33      28\n",
            "2024-01-02     34      27\n"
          ]
        }
      ]
    },
    {
      "cell_type": "code",
      "source": [
        "import pandas as pd\n",
        "data={\n",
        "    'Student':['Alice','Bob','Charlie'],\n",
        "    'maths':[85,90,78],\n",
        "    'Science':[92,88,95],\n",
        "    'English':[78,85,92]\n",
        "}\n",
        "df=pd.DataFrame(data)\n",
        "print(\"original wide DataFrame:\\n\",df)"
      ],
      "metadata": {
        "colab": {
          "base_uri": "https://localhost:8080/"
        },
        "id": "tDx7FIoM7nd2",
        "outputId": "3f3e650e-db28-4dff-8258-48912ac3d2b9"
      },
      "execution_count": null,
      "outputs": [
        {
          "output_type": "stream",
          "name": "stdout",
          "text": [
            "original wide DataFrame:\n",
            "    Student  maths  Science  English\n",
            "0    Alice     85       92       78\n",
            "1      Bob     90       88       85\n",
            "2  Charlie     78       95       92\n"
          ]
        }
      ]
    },
    {
      "cell_type": "code",
      "source": [
        "import pandas as pd\n",
        "data={\n",
        "    'Student':['Alice','Bob','Charlie'],\n",
        "    'maths':[85,90,78],\n",
        "    'Science':[92,88,95],\n",
        "    'English':[78,85,92]\n",
        "}\n",
        "df=pd.DataFrame(data)\n",
        "melted_df=pd.melt(df,id_vars=['Student'],var_name='Subject',value_name='Marks')\n",
        "print(\"\\n Melted DataFrame:\\n\",melted_df)"
      ],
      "metadata": {
        "colab": {
          "base_uri": "https://localhost:8080/"
        },
        "id": "Do_k1xdd8sM5",
        "outputId": "6e714858-a640-4850-b965-c3f67c0178ad"
      },
      "execution_count": null,
      "outputs": [
        {
          "output_type": "stream",
          "name": "stdout",
          "text": [
            "\n",
            " Melted DataFrame:\n",
            "    Student  Subject  Marks\n",
            "0    Alice    maths     85\n",
            "1      Bob    maths     90\n",
            "2  Charlie    maths     78\n",
            "3    Alice  Science     92\n",
            "4      Bob  Science     88\n",
            "5  Charlie  Science     95\n",
            "6    Alice  English     78\n",
            "7      Bob  English     85\n",
            "8  Charlie  English     92\n"
          ]
        }
      ]
    },
    {
      "cell_type": "code",
      "source": [
        "import pandas as pd\n",
        "import numpy as np\n",
        "dates=pd.date_range(start='2024-01-02',periods=10,freq='D')\n",
        "ts=pd.Series(np.random.randint(100,200,size=10),index=dates)\n",
        "print(ts)"
      ],
      "metadata": {
        "colab": {
          "base_uri": "https://localhost:8080/"
        },
        "id": "UeCuZmQ-92Ho",
        "outputId": "db5e4094-dd56-468a-bed1-27ec1224ed68"
      },
      "execution_count": null,
      "outputs": [
        {
          "output_type": "stream",
          "name": "stdout",
          "text": [
            "2024-01-02    107\n",
            "2024-01-03    109\n",
            "2024-01-04    111\n",
            "2024-01-05    169\n",
            "2024-01-06    177\n",
            "2024-01-07    152\n",
            "2024-01-08    168\n",
            "2024-01-09    108\n",
            "2024-01-10    150\n",
            "2024-01-11    130\n",
            "Freq: D, dtype: int64\n"
          ]
        }
      ]
    },
    {
      "cell_type": "code",
      "source": [
        "import pandas as pd\n",
        "import numpy as np\n",
        "df = pd.DataFrame({\n",
        "    'Date': ['2024-01-01', '2024-01-02', '2024-01-03'],\n",
        "    'values': [120, 135, 150]\n",
        "})\n",
        "df['Date'] = pd.to_datetime(df['Date'])\n",
        "print(df)\n"
      ],
      "metadata": {
        "colab": {
          "base_uri": "https://localhost:8080/"
        },
        "id": "epzVruRH_gYW",
        "outputId": "94624873-0d1f-4712-e2b9-4f9b21aaad54"
      },
      "execution_count": null,
      "outputs": [
        {
          "output_type": "stream",
          "name": "stdout",
          "text": [
            "        Date  values\n",
            "0 2024-01-01     120\n",
            "1 2024-01-02     135\n",
            "2 2024-01-03     150\n"
          ]
        }
      ]
    },
    {
      "cell_type": "code",
      "source": [
        "import pandas as pd\n",
        "import numpy as np\n",
        "df = pd.DataFrame({\n",
        "    'Date': ['2024-01-01', '2024-01-02', '2024-01-03'],\n",
        "    'values': [120, 135, 150]\n",
        "})\n",
        "df['Date'] = pd.to_datetime(df['Date'])\n",
        "print(df)\n"
      ],
      "metadata": {
        "colab": {
          "base_uri": "https://localhost:8080/"
        },
        "id": "hC8VnB3mCap8",
        "outputId": "3d84e404-c405-40ea-b980-7b6a3a0f18b7"
      },
      "execution_count": null,
      "outputs": [
        {
          "output_type": "stream",
          "name": "stdout",
          "text": [
            "            values\n",
            "Date              \n",
            "2024-01-01     120\n",
            "2024-01-02     135\n",
            "2024-01-03     150\n"
          ]
        }
      ]
    },
    {
      "cell_type": "code",
      "source": [
        "import pandas as pd\n",
        "import numpy as np\n",
        "df = pd.DataFrame({\n",
        "    'Date': ['2024-01-01', '2024-01-02', '2024-01-03'],\n",
        "    'values': [120, 135, 150]\n",
        "})\n",
        "print(ts['2024-01-04'])\n",
        "print(ts['2024-01-03':'2024-01-07'])\n",
        "print(ts['2024-01'])"
      ],
      "metadata": {
        "colab": {
          "base_uri": "https://localhost:8080/"
        },
        "id": "keb4E351DlaF",
        "outputId": "5bc8a5b9-08da-4772-94d5-def73afe613a"
      },
      "execution_count": null,
      "outputs": [
        {
          "output_type": "stream",
          "name": "stdout",
          "text": [
            "111\n",
            "2024-01-03    109\n",
            "2024-01-04    111\n",
            "2024-01-05    169\n",
            "2024-01-06    177\n",
            "2024-01-07    152\n",
            "Freq: D, dtype: int64\n",
            "2024-01-02    107\n",
            "2024-01-03    109\n",
            "2024-01-04    111\n",
            "2024-01-05    169\n",
            "2024-01-06    177\n",
            "2024-01-07    152\n",
            "2024-01-08    168\n",
            "2024-01-09    108\n",
            "2024-01-10    150\n",
            "2024-01-11    130\n",
            "Freq: D, dtype: int64\n"
          ]
        }
      ]
    },
    {
      "cell_type": "code",
      "source": [
        "import pandas as pd\n",
        "import numpy as np\n",
        "from functools import reduce\n",
        "df=pd.DataFrame({\n",
        "    'Name':['Alice','Bob','Charlie','David'],\n",
        "    'Age':[25,32,30,29],\n",
        "    'Salary':[50000,60000,55000,52000]\n",
        "})\n",
        "print(df)"
      ],
      "metadata": {
        "colab": {
          "base_uri": "https://localhost:8080/"
        },
        "id": "r7kt38ZuFBn5",
        "outputId": "13d37b1d-1463-40c5-ea31-b5ab0ca4f86e"
      },
      "execution_count": null,
      "outputs": [
        {
          "output_type": "stream",
          "name": "stdout",
          "text": [
            "      Name  Age  Salary\n",
            "0    Alice   25   50000\n",
            "1      Bob   32   60000\n",
            "2  Charlie   30   55000\n",
            "3    David   29   52000\n"
          ]
        }
      ]
    },
    {
      "cell_type": "code",
      "source": [
        "import pandas as pd\n",
        "import numpy as np\n",
        "from functools import reduce\n",
        "df=pd.DataFrame({\n",
        "    'Name':['Alice','Bob','Charlie','David'],\n",
        "    'Age':[25,32,30,29],\n",
        "    'Salary':[50000,60000,55000,52000]\n",
        "})\n",
        "df['updated_salary']=df['Salary'].apply(lambda x:x*1.10)\n",
        "df['Age_group']=df['Age'].apply(lambda x:'Young' if x<30 else 'Adult')\n",
        "print(df)"
      ],
      "metadata": {
        "colab": {
          "base_uri": "https://localhost:8080/"
        },
        "id": "6Xc0LWvAGMF9",
        "outputId": "ac79c793-404c-43f2-cb7e-9761a9e052da"
      },
      "execution_count": null,
      "outputs": [
        {
          "output_type": "stream",
          "name": "stdout",
          "text": [
            "      Name  Age  Salary  updated_salary Age_group\n",
            "0    Alice   25   50000         55000.0     Young\n",
            "1      Bob   32   60000         66000.0     Adult\n",
            "2  Charlie   30   55000         60500.0     Adult\n",
            "3    David   29   52000         57200.0     Young\n"
          ]
        }
      ]
    },
    {
      "cell_type": "code",
      "source": [
        "import pandas as pd\n",
        "import numpy as np\n",
        "from functools import reduce\n",
        "df=pd.DataFrame({\n",
        "    'Name':['Alice','Bob','Charlie','David'],\n",
        "    'Age':[25,32,30,29],\n",
        "    'Salary':[50000,60000,55000,52000]\n",
        "})\n",
        "df['Name_upper']=df['Name'].map(lambda x:x.upper())\n",
        "print(df)"
      ],
      "metadata": {
        "colab": {
          "base_uri": "https://localhost:8080/"
        },
        "id": "QTeZwXjyG23Y",
        "outputId": "271610e1-b602-4813-c613-69a53798a27d"
      },
      "execution_count": null,
      "outputs": [
        {
          "output_type": "stream",
          "name": "stdout",
          "text": [
            "      Name  Age  Salary Name_upper\n",
            "0    Alice   25   50000      ALICE\n",
            "1      Bob   32   60000        BOB\n",
            "2  Charlie   30   55000    CHARLIE\n",
            "3    David   29   52000      DAVID\n"
          ]
        }
      ]
    },
    {
      "cell_type": "code",
      "source": [
        "import pandas as pd\n",
        "import numpy as np\n",
        "from functools import reduce\n",
        "df=pd.DataFrame({\n",
        "    'Name':['Alice','Bob','Charlie','David'],\n",
        "    'Age':[25,32,30,29],\n",
        "    'Salary':[50000,60000,55000,52000]\n",
        "})\n",
        "salary_levels={50000:'Low',55000:'Medium',60000:'High'}\n",
        "df['Salary_level']=df['Salary'].map(salary_levels)\n",
        "print(df)"
      ],
      "metadata": {
        "colab": {
          "base_uri": "https://localhost:8080/"
        },
        "id": "mVFRvP-ZH50m",
        "outputId": "611b38e7-ff48-4866-8c46-c548f107fcf6"
      },
      "execution_count": null,
      "outputs": [
        {
          "output_type": "stream",
          "name": "stdout",
          "text": [
            "      Name  Age  Salary Salary_level\n",
            "0    Alice   25   50000          Low\n",
            "1      Bob   32   60000         High\n",
            "2  Charlie   30   55000       Medium\n",
            "3    David   29   52000          NaN\n"
          ]
        }
      ]
    },
    {
      "cell_type": "code",
      "source": [
        "import pandas as pd\n",
        "import numpy as np\n",
        "from functools import reduce\n",
        "df=pd.DataFrame({\n",
        "    'Name':['Alice','Bob','Charlie','David'],\n",
        "    'Age':[25,32,30,29],\n",
        "    'Salary':[50000,60000,55000,52000]\n",
        "})\n",
        "filtered_df=df[df['Salary']>52000]\n",
        "filtered_df=df[df['Name'].apply(lambda x:x.startswith('A'))]\n",
        "print(filtered_df)"
      ],
      "metadata": {
        "colab": {
          "base_uri": "https://localhost:8080/"
        },
        "id": "yOvxoov8I2II",
        "outputId": "16f5cc52-3eaf-408e-ff3f-38b8f5ea26e1"
      },
      "execution_count": null,
      "outputs": [
        {
          "output_type": "stream",
          "name": "stdout",
          "text": [
            "    Name  Age  Salary\n",
            "0  Alice   25   50000\n"
          ]
        }
      ]
    },
    {
      "cell_type": "code",
      "source": [
        "import pandas as pd\n",
        "import numpy as np\n",
        "from functools import reduce\n",
        "\n",
        "df = pd.DataFrame({\n",
        "    'Name': ['Alice', 'Bob', 'Charlie', 'David'],\n",
        "    'Age': [25, 32, 30, 29],\n",
        "    'Salary': [50000, 60000, 55000, 52000]\n",
        "})\n",
        "\n",
        "df['Name_Age'] = df.apply(lambda row: reduce(lambda a, b: str(a) + '-' + str(b), [row['Name'], row['Age']]), axis=1)\n",
        "\n",
        "print(df)\n"
      ],
      "metadata": {
        "colab": {
          "base_uri": "https://localhost:8080/"
        },
        "id": "XJ5fi7kZJpV2",
        "outputId": "565e75e0-a76c-4316-99fa-330eef1e747b"
      },
      "execution_count": null,
      "outputs": [
        {
          "output_type": "stream",
          "name": "stdout",
          "text": [
            "      Name  Age  Salary    Name_Age\n",
            "0    Alice   25   50000    Alice-25\n",
            "1      Bob   32   60000      Bob-32\n",
            "2  Charlie   30   55000  Charlie-30\n",
            "3    David   29   52000    David-29\n"
          ]
        }
      ]
    },
    {
      "cell_type": "code",
      "source": [
        "import pandas as pd\n",
        "import matplotlib.pyplot as plt\n",
        "from sklearn.datasets import load_iris\n",
        "iris = load_iris()\n",
        "df = pd.DataFrame(iris.data, columns=iris.feature_names)\n",
        "x = df['sepal length (cm)']\n",
        "y = df['sepal width (cm)']\n",
        "plt.scatter(x, y)\n",
        "plt.xlabel('sepal length (cm)')\n",
        "plt.ylabel('sepal width (cm)')\n",
        "plt.title('Scatter Plot for Iris Data Set')\n",
        "plt.show()\n"
      ],
      "metadata": {
        "id": "mI_RJ3oOKwWI",
        "colab": {
          "base_uri": "https://localhost:8080/",
          "height": 472
        },
        "outputId": "acdc45ae-01b4-47a2-929a-95fab89124c4"
      },
      "execution_count": null,
      "outputs": [
        {
          "output_type": "display_data",
          "data": {
            "text/plain": [
              "<Figure size 640x480 with 1 Axes>"
            ],
            "image/png": "[encoded data removed]"
          },
          "metadata": {}
        }
      ]
    },
    {
      "cell_type": "code",
      "source": [
        "import pandas as pd\n",
        "import matplotlib.pyplot as plt\n",
        "from sklearn.datasets import load_iris\n",
        "iris = load_iris()\n",
        "df = pd.DataFrame(iris.data, columns=iris.feature_names)\n",
        "df['species'] = iris.target_names[iris.target]\n",
        "color={'setosa':'red','virginica':'green','versicolor':'blue'}\n",
        "sp_color=df['species'].map(color)\n",
        "x = df['sepal length (cm)']\n",
        "y = df['sepal width (cm)']\n",
        "plt.scatter(x,y,c=sp_color)\n",
        "\n",
        "plt.xlabel('sepal length (cm)')\n",
        "plt.ylabel('sepal width (cm)')\n",
        "plt.title('Scatter Plot for Iris Data Set')\n",
        "plt.show()"
      ],
      "metadata": {
        "colab": {
          "base_uri": "https://localhost:8080/",
          "height": 472
        },
        "id": "Bf_TOJZURWCd",
        "outputId": "1efd7b21-dfcb-4d9b-9caf-34285a18a313"
      },
      "execution_count": null,
      "outputs": [
        {
          "output_type": "display_data",
          "data": {
            "text/plain": [
              "<Figure size 640x480 with 1 Axes>"
            ],
            "image/png": "[encoded data removed]"
          },
          "metadata": {}
        }
      ]
    },
    {
      "cell_type": "code",
      "source": [
        "print(\"We will continue Tommorrow\")"
      ],
      "metadata": {
        "colab": {
          "base_uri": "https://localhost:8080/"
        },
        "id": "evlwA6JyYNK0",
        "outputId": "1c85b785-530e-452d-82e3-e0d8081a0dc5"
      },
      "execution_count": 5,
      "outputs": [
        {
          "output_type": "stream",
          "name": "stdout",
          "text": [
            "We will continue Tommorrow\n"
          ]
        }
      ]
    }
  ],
  "metadata": {
    "colab": {
      "provenance": [],
      "include_colab_link": true
    },
    "kernelspec": {
      "display_name": "Python 3",
      "name": "python3"
    },
    "language_info": {
      "name": "python"
    }
  },
  "nbformat": 4,
  "nbformat_minor": 0
}