{
  "nbformat": 4,
  "nbformat_minor": 0,
  "metadata": {
    "colab": {
      "provenance": [],
      "authorship_tag": "ABX9TyM8GlbZmg/pmlEKnJkzgPsE",
      "include_colab_link": true
    },
    "kernelspec": {
      "name": "python3",
      "display_name": "Python 3"
    },
    "language_info": {
      "name": "python"
    }
  },
  "cells": [
    {
      "cell_type": "markdown",
      "metadata": {
        "id": "view-in-github",
        "colab_type": "text"
      },
      "source": [
        "<a href=\"https://colab.research.google.com/github/harish-git63/Demo1/blob/main/CIE5.ipynb\" target=\"_parent\"><img src=\"https://colab.research.google.com/assets/colab-badge.svg\" alt=\"Open In Colab\"/></a>"
      ]
    },
    {
      "cell_type": "code",
      "execution_count": 4,
      "metadata": {
        "colab": {
          "base_uri": "https://localhost:8080/"
        },
        "id": "2O-wGf0WewUD",
        "outputId": "24f8487f-df51-4ae6-bc90-9e35851f3166"
      },
      "outputs": [
        {
          "output_type": "stream",
          "name": "stdout",
          "text": [
            "[(AI, is), (is, simulation), (simulation, of), (of, human), (human, intelligence), (intelligence, by), (by, machine), (machine, .), (., It), (It, includes), (includes, expects), (expects, system), (system, NLP), (NLP, speech), (speech, recognition), (recognition, and), (and, machine), (machine, vision), (vision, .)]\n"
          ]
        }
      ],
      "source": [
        "import spacy\n",
        "from nltk import ngrams\n",
        "nlp=spacy.load(\"en_core_web_sm\")\n",
        "doc =nlp(\"AI is simulation of human intelligence by machine.It includes expects system NLP speech recognition and machine vision.\")\n",
        "\n",
        "bigrams=ngrams(doc,2)\n",
        "print(list(bigrams))\n"
      ]
    },
    {
      "cell_type": "code",
      "source": [
        "import spacy\n",
        "from nltk import ngrams\n",
        "nlp=spacy.load(\"en_core_web_sm\")\n",
        "doc =nlp(\"AI is simulation of human intelligence by machine.It includes expects system NLP speech recognition and machine vision.\")\n",
        "\n",
        "tirgrams=ngrams(doc,2)\n",
        "print(list(tirgrams))"
      ],
      "metadata": {
        "colab": {
          "base_uri": "https://localhost:8080/"
        },
        "id": "DUOfB4h5gbSx",
        "outputId": "7bec843e-076f-451d-cd33-7734251eabc2"
      },
      "execution_count": 5,
      "outputs": [
        {
          "output_type": "stream",
          "name": "stdout",
          "text": [
            "[(AI, is), (is, simulation), (simulation, of), (of, human), (human, intelligence), (intelligence, by), (by, machine), (machine, .), (., It), (It, includes), (includes, expects), (expects, system), (system, NLP), (NLP, speech), (speech, recognition), (recognition, and), (and, machine), (machine, vision), (vision, .)]\n"
          ]
        }
      ]
    }
  ]
}